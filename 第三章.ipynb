{
 "cells": [
  {
   "cell_type": "code",
   "execution_count": null,
   "outputs": [],
   "source": [
    "import pandas as pd\n",
    "df = pd.DataFrame([[1,2],[7,-4],[3,9],[4,-4],[1,3]],columns=[\"one\",\"two\"])\n",
    "print(\"均值：\\n\",df.mean())\n",
    "print(\"中位数：\\n\",df.median())\n",
    "print(\"众数：\\n\",df.mode())"
   ],
   "metadata": {
    "collapsed": false,
    "pycharm": {
     "name": "#%%\n"
    }
   }
  },
  {
   "cell_type": "code",
   "execution_count": null,
   "outputs": [],
   "source": [
    "import pandas as pd\n",
    "df = pd.DataFrame([[1,2],[7,-4],[3,9],[4,-4]],index=[\"a\",\"b\",\"c\",\"d\"],columns=[\"one\",\"two\"])\n",
    "print(df)\n",
    "print(df.describe())"
   ],
   "metadata": {
    "collapsed": false,
    "pycharm": {
     "name": "#%%\n"
    }
   }
  },
  {
   "cell_type": "code",
   "execution_count": null,
   "outputs": [],
   "source": [
    "import numpy as np\n",
    "import matplotlib.pyplot as plt\n",
    "import pandas as pd\n",
    "np.random.seed(2)\n",
    "df = pd.DataFrame(np.random.rand(5,4),columns=[\"a\",\"b\",\"c\",\"d\"])\n",
    "df.boxplot()\n",
    "plt.show()"
   ],
   "metadata": {
    "collapsed": false,
    "pycharm": {
     "name": "#%%\n"
    }
   }
  },
  {
   "cell_type": "code",
   "execution_count": null,
   "outputs": [],
   "source": [],
   "metadata": {
    "collapsed": false,
    "pycharm": {
     "name": "#%%\n"
    }
   }
  },
  {
   "cell_type": "code",
   "execution_count": null,
   "outputs": [],
   "source": [
    "# 回归图\n",
    "import seaborn as sns\n",
    "df_iris = sns.load_dataset('iris')\n",
    "df_iris.head()\n",
    "sns.regplot(x='petal_lengrh',y='petal_width',data=df_iris)"
   ],
   "metadata": {
    "collapsed": false,
    "pycharm": {
     "name": "#%%\n"
    }
   }
  },
  {
   "cell_type": "code",
   "execution_count": null,
   "outputs": [],
   "source": [
    "#常见距离\n",
    "import  numpy as np\n",
    "def euclidean(x,y):\n",
    "    return np.sqrt(np.sum((x-y)**2))\n",
    "\n",
    "def manhattan(x,y):\n",
    "    return np.sum(np.abs(x-y))\n",
    "\n",
    "def chebyshev(x,y):\n",
    "    return np.max(np.abs(x-y))\n",
    "\n",
    "def minkowski(x,y,p):\n",
    "    return np.sum(np.abs(x-y)**p)**1/p\n",
    "\n",
    "def hamming(x,y):\n",
    "    return np.sum(x!=y)/len(x)\n",
    "\n",
    "def cos_similarity(x,y):\n",
    "    return np.dot(x,y)/(np.linalg.norm(x)*np.linalg.norm(y))"
   ],
   "metadata": {
    "collapsed": false,
    "pycharm": {
     "name": "#%%\n"
    }
   }
  },
  {
   "cell_type": "code",
   "execution_count": null,
   "outputs": [],
   "source": [
    "#使用scipy计算距离\n",
    "import numpy as np\n",
    "from scipy.spatial.distance import pdist\n",
    "x = (0.7,0.9,0.2,0.3,0.8,0.4,0.6,0,0.5)\n",
    "y = (0.6,0.8,0.5,0.4,0.3,0.5,0.7,0.2,0.6)\n",
    "\n",
    "X = np.vstack([x,y])\n",
    "d1 = pdist(X,\"euclidean\")\n",
    "print(\"欧式距离\",d1)\n",
    "d2 = pdist(X,\"cityblock\")\n",
    "print(\"曼哈顿距离\",d2)\n",
    "d3 = pdist(X,\"chebyshev\")\n",
    "print(\"切比雪夫距离\",d3)\n",
    "d4 = pdist(X,\"minkowski\")\n",
    "print(\"闵可夫斯基距离\",d4)\n",
    "d5 = pdist(X,\"cosine\")\n",
    "print(\"余弦相似性\",d5)"
   ],
   "metadata": {
    "collapsed": false,
    "pycharm": {
     "name": "#%%\n"
    }
   }
  },
  {
   "cell_type": "code",
   "execution_count": null,
   "outputs": [],
   "source": [
    "# 3sigma检测异常值\n",
    "def outRange(S):\n",
    "    blidx = (S.mean()-3*S.std()>S)|(S.mean()+3*S.std()<S)\n",
    "    idx = np.arange(S.shape[0])[blidx]\n",
    "    out = S.iloc(idx)\n",
    "    return out"
   ],
   "metadata": {
    "collapsed": false,
    "pycharm": {
     "name": "#%%\n"
    }
   }
  },
  {
   "cell_type": "code",
   "execution_count": null,
   "outputs": [],
   "source": [
    "# 数据离差化将值映射到0-1之间\n",
    "def MinMaxScale(data):\n",
    "    MinMaxData = (data-data.min())/(data.max()-data.min())\n",
    "    return MinMaxData"
   ],
   "metadata": {
    "collapsed": false,
    "pycharm": {
     "name": "#%%\n"
    }
   }
  },
  {
   "cell_type": "code",
   "execution_count": null,
   "outputs": [],
   "source": [
    "# 数据标准差化 均值为0，方差为1\n",
    "def StandardScale(data):\n",
    "    StandardData = (data-data.mean())/data.std()\n",
    "    return StandardData"
   ],
   "metadata": {
    "collapsed": false,
    "pycharm": {
     "name": "#%%\n"
    }
   }
  },
  {
   "cell_type": "code",
   "execution_count": null,
   "outputs": [],
   "source": [
    "# 导入必要的库\n",
    "import numpy as np\n",
    "import pywt         # 小波变换库\n",
    "import cv2 as cv     # OpenCV库，用于图像处理\n",
    "import matplotlib.pyplot as plt  # 绘图库\n",
    "\n",
    "# 读取图像文件\n",
    "img = cv.imread(\"lena_color_256.tif\")\n",
    "\n",
    "# 调整图像大小为448x448像素\n",
    "img = cv.resize(img, (448, 448))\n",
    "\n",
    "# 将彩色图像转换为灰度图像，并转换为float32类型\n",
    "# 注意：代码中有拼写错误，应为cv.COLOR_BGR2GRAY而不是cv2_COLOR_BGR2GRAY\n",
    "img = cv.cvtColor(img, cv.COLOR_BGR2GRAY).astype(np.float32)\n",
    "\n",
    "# 创建一个名为'二维小波一级变换'的图形窗口\n",
    "plt.figure('二维小波一级变换')\n",
    "\n",
    "# 对图像进行二维小波变换(一级分解)，使用haar小波\n",
    "# 返回系数包括近似系数(cA)和三个细节系数(cH-水平, cV-垂直, cD-对角)\n",
    "coeffs = pywt.dwt2(img, 'haar')\n",
    "cA, (cH, cV, cD) = coeffs\n",
    "\n",
    "# 将各个子图进行拼接：\n",
    "# 1. 将近似系数cA和水平细节系数cH(加255使值域合适)水平拼接\n",
    "AH = np.concatenate([cA, cH+255], axis=1)\n",
    "\n",
    "# 2. 将垂直细节系数cV和对角细节系数cD(都加255)水平拼接\n",
    "VD = np.concatenate([cV+255, cD+255], axis=1)\n",
    "\n",
    "# 3. 将AH和VD垂直拼接，形成最终的四象限图像\n",
    "img = np.concatenate([AH, VD], axis=0)\n",
    "\n",
    "# 显示图像配置：\n",
    "plt.axis('off')             # 关闭坐标轴\n",
    "plt.imshow(img, 'gray')     # 以灰度图形式显示\n",
    "plt.title('result')         # 设置标题\n",
    "plt.show()                 # 显示图像"
   ],
   "metadata": {
    "collapsed": false,
    "pycharm": {
     "name": "#%%\n"
    }
   }
  },
  {
   "cell_type": "code",
   "execution_count": null,
   "outputs": [],
   "source": [],
   "metadata": {
    "collapsed": false,
    "pycharm": {
     "name": "#%%\n"
    }
   }
  }
 ],
 "metadata": {
  "kernelspec": {
   "display_name": "Python 3",
   "language": "python",
   "name": "python3"
  },
  "language_info": {
   "codemirror_mode": {
    "name": "ipython",
    "version": 2
   },
   "file_extension": ".py",
   "mimetype": "text/x-python",
   "name": "python",
   "nbconvert_exporter": "python",
   "pygments_lexer": "ipython2",
   "version": "2.7.6"
  }
 },
 "nbformat": 4,
 "nbformat_minor": 0
}