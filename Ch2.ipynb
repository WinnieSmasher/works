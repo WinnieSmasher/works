{
 "cells": [
  {
   "cell_type": "markdown",
   "metadata": {},
   "source": [
    "【例2-1】变量赋值示例。"
   ]
  },
  {
   "cell_type": "code",
   "execution_count": 1,
   "metadata": {},
   "outputs": [
    {
     "name": "stdout",
     "output_type": "stream",
     "text": [
      "Google 100 123.45\n"
     ]
    }
   ],
   "source": [
    "brower, count, addsum = 'Google', 100, 123.45\n",
    "print(brower, count, addsum)\n"
   ]
  },
  {
   "cell_type": "markdown",
   "metadata": {},
   "source": [
    "【例2-2】转义字符的使用。"
   ]
  },
  {
   "cell_type": "code",
   "execution_count": 2,
   "metadata": {},
   "outputs": [
    {
     "name": "stdout",
     "output_type": "stream",
     "text": [
      "python\n",
      "program\n",
      "python\\nprogram\n"
     ]
    }
   ],
   "source": [
    "print(\"python\\nprogram\")\n",
    "print(r\"python\\nprogram\")\n"
   ]
  },
  {
   "cell_type": "markdown",
   "metadata": {},
   "source": [
    "【例2-3】将化学分子式翻译为其表示物质对应的英文。"
   ]
  },
  {
   "cell_type": "code",
   "execution_count": 3,
   "metadata": {},
   "outputs": [
    {
     "name": "stdout",
     "output_type": "stream",
     "text": [
      "请输入化学分子式：H2O\n",
      "water\n"
     ]
    }
   ],
   "source": [
    "compound = input(\"请输入化学分子式：\")\n",
    "if compound == \"H2O\":\n",
    "    print(\"water\")\n",
    "elif compound == \"NH3\":\n",
    "    print(\"ammonia\")\n",
    "elif compound == \"CH4\":\n",
    "    print(\"methone\")\n",
    "else:\n",
    "    print(\"no exist\")\n"
   ]
  },
  {
   "cell_type": "markdown",
   "metadata": {},
   "source": [
    "【例2-4】求1+2+3+4+5的值。"
   ]
  },
  {
   "cell_type": "code",
   "execution_count": 4,
   "metadata": {},
   "outputs": [
    {
     "name": "stdout",
     "output_type": "stream",
     "text": [
      "sum is 15.\n"
     ]
    }
   ],
   "source": [
    "sum=0\n",
    "i = 1\n",
    "while i<6:\n",
    "    sum = sum+i\n",
    "    i = i+1\n",
    "print(\"sum is %d.\" %sum)\n"
   ]
  },
  {
   "cell_type": "markdown",
   "metadata": {},
   "source": [
    "【例2-5】将下面数组中的奇数变成它的平方，偶数保持不变。"
   ]
  },
  {
   "cell_type": "code",
   "execution_count": 5,
   "metadata": {},
   "outputs": [
    {
     "name": "stdout",
     "output_type": "stream",
     "text": [
      "原数据： [1, 2, 3, 4, 8, 7, 22, 33, 88]\n",
      "处理后： [1, 2, 9, 4, 8, 49, 22, 1089, 88]\n"
     ]
    }
   ],
   "source": [
    "x = [ 1,2,3,4,8,7, 22,33, 88]\n",
    "print(\"原数据：\",x)\n",
    "for i in range(len(x)):\n",
    "    if(x[i] % 2) !=0:   # 判读第 i 个元素是否为奇数\n",
    "        x[i] = x[i] * x[i]\n",
    "print(\"处理后：\",x)\n"
   ]
  },
  {
   "cell_type": "markdown",
   "metadata": {},
   "source": [
    "【例2-6】定义函数计算n！。"
   ]
  },
  {
   "cell_type": "code",
   "execution_count": 6,
   "metadata": {},
   "outputs": [
    {
     "name": "stdout",
     "output_type": "stream",
     "text": [
      "5!=120\n"
     ]
    }
   ],
   "source": [
    "def fac(n):\n",
    "    s=1;\n",
    "    for i in range(2,n+1):\n",
    "        s=s*i\n",
    "    return s\n",
    "n=5\n",
    "print('%d!=%d'%(n,fac(n)))\n"
   ]
  },
  {
   "cell_type": "markdown",
   "metadata": {},
   "source": [
    "【例2-7】定义一个lambda函数计算多项式1+2*x+y2+z*y的值。"
   ]
  },
  {
   "cell_type": "code",
   "execution_count": 7,
   "metadata": {},
   "outputs": [
    {
     "data": {
      "text/plain": [
       "13"
      ]
     },
     "execution_count": 7,
     "metadata": {},
     "output_type": "execute_result"
    }
   ],
   "source": [
    "polynominal = lambda x,y,z: 1+2*x+y**2+z*y\n",
    "polynominal(1,2,3)\n"
   ]
  },
  {
   "cell_type": "markdown",
   "metadata": {},
   "source": [
    "【例2-8】列表中追加元素。"
   ]
  },
  {
   "cell_type": "code",
   "execution_count": 8,
   "metadata": {},
   "outputs": [
    {
     "name": "stdout",
     "output_type": "stream",
     "text": [
      "追加后的列表 :  ['a', 'b', 'c', 'd', 'Baidu']\n",
      "插入元素后的列表 :  ['a', 'Google', 'b', 'c', 'd', 'Baidu']\n"
     ]
    }
   ],
   "source": [
    "list = ['a', 'b', 'c', 'd']\n",
    "list.append('Baidu')\n",
    "print (\"追加后的列表 : \", list)\n",
    "list.insert(1, 'Google')\n",
    "print (\"插入元素后的列表 : \", list)\n"
   ]
  },
  {
   "cell_type": "markdown",
   "metadata": {},
   "source": [
    "【例2-9】返回中第一个指定值的索引。"
   ]
  },
  {
   "cell_type": "code",
   "execution_count": 9,
   "metadata": {},
   "outputs": [
    {
     "name": "stdout",
     "output_type": "stream",
     "text": [
      "b索引值为 1\n"
     ]
    }
   ],
   "source": [
    "list = ['a', 'b', 'c', 'd']\n",
    "print ('b索引值为', list.index('b'))\n"
   ]
  },
  {
   "cell_type": "markdown",
   "metadata": {},
   "source": [
    "【例2-10】删除列表中第一次找到的数值。"
   ]
  },
  {
   "cell_type": "code",
   "execution_count": 10,
   "metadata": {},
   "outputs": [
    {
     "name": "stdout",
     "output_type": "stream",
     "text": [
      "列表现在为 :  ['a', 'b', 'c']\n",
      "删除 'c' 后的列表为 ['a', 'b'] : \n",
      "删除元素为 :  b\n"
     ]
    }
   ],
   "source": [
    "list = ['a', 'b', 'c', 'd']\n",
    "list. remove('d')\n",
    "print (\"列表现在为 : \", list)\n",
    "p=list. pop()\n",
    "print (\"删除 %r 后的列表为 %r : \" % (p, list))\n",
    "print (\"删除元素为 : \", list.pop(1))\n"
   ]
  },
  {
   "cell_type": "markdown",
   "metadata": {},
   "source": [
    "【例2-11】列表元素倒排和统计元素出现次数。"
   ]
  },
  {
   "cell_type": "code",
   "execution_count": 11,
   "metadata": {},
   "outputs": [
    {
     "name": "stdout",
     "output_type": "stream",
     "text": [
      "倒排后的List： ['c', 'a', 'd', 'a', 'c', 'b', 'a']\n",
      "c的出现次数是： 2\n"
     ]
    },
    {
     "data": {
      "text/plain": [
       "['d', 'c', 'c', 'b', 'a', 'a', 'a']"
      ]
     },
     "execution_count": 11,
     "metadata": {},
     "output_type": "execute_result"
    }
   ],
   "source": [
    "List = ['a', 'b', 'c','a', 'd','a','c']\n",
    "List.reverse()\n",
    "print('倒排后的List：',List)\n",
    "print ('c的出现次数是：', List.count('c'))\n",
    "List.sort(reverse=True)\n",
    "List\n"
   ]
  },
  {
   "cell_type": "markdown",
   "metadata": {},
   "source": [
    "【例2-12】列表推导式示例。"
   ]
  },
  {
   "cell_type": "code",
   "execution_count": 12,
   "metadata": {},
   "outputs": [
    {
     "name": "stdout",
     "output_type": "stream",
     "text": [
      "[6, 12, 18, 24, 30]\n",
      "[24, 30]\n",
      "[8, 6, 16, 12, 24, 18]\n"
     ]
    }
   ],
   "source": [
    "vec = [2, 4, 6, 8, 10]\n",
    "print([3*x for x in vec])\n",
    "vec = [2, 4, 6,8,10]\n",
    "print([3*x  for  x  in  vec  if x > 6])\n",
    "vec1 = [2, 4, 6]\n",
    "vec2 = [4, 3, -9]\n",
    "print([x*y for x in vec1 for y in vec2 if x*y>0])\n"
   ]
  },
  {
   "cell_type": "markdown",
   "metadata": {},
   "source": [
    "【例2-13】元组的创建。"
   ]
  },
  {
   "cell_type": "code",
   "execution_count": 13,
   "metadata": {},
   "outputs": [
    {
     "name": "stdout",
     "output_type": "stream",
     "text": [
      "输出元组tup： ('b', 'a', 'r')\n",
      "输出元组tup： ((4, 5, 6), (7, 8))\n",
      "元组的连接 ('b', 'a', 'r', 'w', 'w', 'y')\n",
      "b a r\n",
      "1\n"
     ]
    }
   ],
   "source": [
    "tup = tuple('bar')  #创建元组\n",
    "print('输出元组tup：',tup)  #输出元组\n",
    "nested_tup = (4,5,6),(7,8)\n",
    "print('输出元组tup：',nested_tup)  #元素是元组的元组\n",
    "print('元组的连接',tup+tuple('wwy'))\n",
    "a,b,c = tup  #元组的拆分\n",
    "print(a,b,c)\n",
    "print(tup.count(a)) # 统计某个数值在元组中出现的次数\n"
   ]
  },
  {
   "cell_type": "markdown",
   "metadata": {},
   "source": [
    "【例2-14】字典应用示例。"
   ]
  },
  {
   "cell_type": "code",
   "execution_count": 14,
   "metadata": {},
   "outputs": [
    {
     "name": "stdout",
     "output_type": "stream",
     "text": [
      "keys: dict_keys(['Newton', 'Darwin', 'Turing'])\n",
      "values: dict_values([1642, 1809, 1912])\n",
      "items: dict_items([('Newton', 1642), ('Darwin', 1809), ('Turing', 1912)])\n",
      "get: 1867\n",
      "after update: {'Newton': 1642, 'Darwin': 1809, 'Turing': 1912, 'Curie': 1867, 'Hopper': 1906, 'Franklin': 1920}\n",
      "after clear: {}\n"
     ]
    }
   ],
   "source": [
    "scientists = {'Newton' : 1642, 'Darwin' : 1809, 'Turing' : 1912}\n",
    "print('keys:', scientists.keys())  #返回字典中的所有键\n",
    "print('values:', scientists.values()) #返回字典中的所有值\n",
    "print('items:', scientists.items()) #返回所有键值对\n",
    "print('get:', scientists.get('Curie', 1867))  # get方法\n",
    "temp = {'Curie' : 1867, 'Hopper' : 1906, 'Franklin' : 1920}\n",
    "scientists.update(temp)  #用字典temp更新字典scientists\n",
    "print('after update:', scientists)\n",
    "scientists.clear() # 清空字典\n",
    "print('after clear:', scientists)\n"
   ]
  },
  {
   "cell_type": "markdown",
   "metadata": {},
   "source": [
    "【例2-15】集合用法示例。"
   ]
  },
  {
   "cell_type": "code",
   "execution_count": 15,
   "metadata": {},
   "outputs": [
    {
     "name": "stdout",
     "output_type": "stream",
     "text": [
      "False\n",
      "{0, 1, 2, 3, 4, 5, 7, 9}\n",
      "{9, 5, 7}\n",
      "False\n"
     ]
    }
   ],
   "source": [
    "set1 = set([0,1,2,3,4])\n",
    "set2 = set([1,3,5,7,9])\n",
    "print(set1.issubset(set2))\n",
    "print(set1.union(set2))\n",
    "print(set2.difference(set1))\n",
    "print(set1.issubset(set2))\n"
   ]
  },
  {
   "cell_type": "markdown",
   "metadata": {},
   "source": [
    "【例2-16】基于list或tuple创建数组。"
   ]
  },
  {
   "cell_type": "code",
   "execution_count": 16,
   "metadata": {},
   "outputs": [
    {
     "name": "stdout",
     "output_type": "stream",
     "text": [
      "w1: [1 3 5 7]\n",
      "w2: [2 4 6 8]\n",
      "w3: [[1 2 3 4]\n",
      " [5 6 7 8]]\n"
     ]
    }
   ],
   "source": [
    "import numpy as np\n",
    "data1 = [1,3,5,7] #列表\n",
    "w1 = np.array(data1)\n",
    "print('w1:',w1)\n",
    "data2 = (2,4,6,8) #元组\n",
    "w2 = np.array(data2)\n",
    "print('w2:',w2)\n",
    "data3 = [[1,2,3,4],[5,6,7,8]] #多维数组\n",
    "w3 = np.array(data3)\n",
    "print('w3:',w3)\n"
   ]
  },
  {
   "cell_type": "markdown",
   "metadata": {},
   "source": [
    "【例2-17】利用arange创建数组。"
   ]
  },
  {
   "cell_type": "code",
   "execution_count": 17,
   "metadata": {},
   "outputs": [
    {
     "name": "stdout",
     "output_type": "stream",
     "text": [
      "array1: [0 1 2 3 4 5 6 7 8 9]\n",
      "array2: [0.  0.2 0.4 0.6 0.8]\n"
     ]
    }
   ],
   "source": [
    "array1 = np.arange(10)\n",
    "print('array1:',array1)\n",
    "array2 = np.arange(0,1,0.2)\n",
    "print('array2:',array2)\n"
   ]
  },
  {
   "cell_type": "markdown",
   "metadata": {},
   "source": [
    "【例2-18】利用linspace和logspace函数创建数组。"
   ]
  },
  {
   "cell_type": "code",
   "execution_count": 18,
   "metadata": {},
   "outputs": [
    {
     "name": "stdout",
     "output_type": "stream",
     "text": [
      "array3: [0.   0.25 0.5  0.75 1.  ]\n",
      "array4: [ 1.          1.77827941  3.16227766  5.62341325 10.        ]\n"
     ]
    }
   ],
   "source": [
    "array3= np.linspace(0,1,5)\n",
    "array4 = np.logspace(0,1,5) \n",
    "#生成1-10间的具有5个元素的等比数列\n",
    "print('array3:',array3)\n",
    "print('array4:',array4)\n"
   ]
  },
  {
   "cell_type": "markdown",
   "metadata": {},
   "source": [
    "【例2-19】zeros和ones函数创建。"
   ]
  },
  {
   "cell_type": "code",
   "execution_count": 19,
   "metadata": {},
   "outputs": [
    {
     "name": "stdout",
     "output_type": "stream",
     "text": [
      "1维值为0的数组： [0. 0. 0. 0.]\n",
      "3*3维值为0的数组：\n",
      " [[0. 0. 0.]\n",
      " [0. 0. 0.]\n",
      " [0. 0. 0.]]\n",
      "1维值为0的数组： [1. 1. 1. 1. 1.]\n",
      "2*3维值为0的数组：\n",
      " [[1. 1. 1.]\n",
      " [1. 1. 1.]]\n"
     ]
    }
   ],
   "source": [
    "print('1维值为0的数组：',np.zeros(4))\n",
    "print('3*3维值为0的数组：\\n',np.zeros([3,3]))\n",
    "print('1维值为0的数组：',np.ones(5))\n",
    "print('2*3维值为0的数组：\\n',np.ones([2,3]))\n"
   ]
  },
  {
   "cell_type": "markdown",
   "metadata": {},
   "source": [
    "【例2-20】diag和full函数创建矩阵。"
   ]
  },
  {
   "cell_type": "code",
   "execution_count": 20,
   "metadata": {},
   "outputs": [
    {
     "name": "stdout",
     "output_type": "stream",
     "text": [
      "对角阵：\n",
      " [[1 0 0 0]\n",
      " [0 2 0 0]\n",
      " [0 0 3 0]\n",
      " [0 0 0 4]]\n",
      "指定大小和数值的矩阵:\n",
      " [[6 6 6]\n",
      " [6 6 6]]\n"
     ]
    }
   ],
   "source": [
    "print('对角阵：\\n',np.diag([1,2,3,4]))\n",
    "print('指定大小和数值的矩阵:\\n',np.full((2,3),6))\n"
   ]
  },
  {
   "cell_type": "markdown",
   "metadata": {},
   "source": [
    "【例2-21】查看数组的属性、设置shape属性及类型转换。"
   ]
  },
  {
   "cell_type": "code",
   "execution_count": 21,
   "metadata": {},
   "outputs": [
    {
     "name": "stdout",
     "output_type": "stream",
     "text": [
      "秩为： 2\n",
      "形状为： (2, 3)\n",
      "元素个数为： 6\n",
      "设置shape后的数组:\n",
      " [[1 2]\n",
      " [3 4]\n",
      " [5 6]]\n",
      "原数组类型： int32\n",
      "新数据类型 float64\n"
     ]
    }
   ],
   "source": [
    "warray = np.array([[1,2,3],[4,5,6]])\n",
    "print('秩为：',warray.ndim)\n",
    "print('形状为：',warray.shape)\n",
    "print('元素个数为：',warray.size)\n",
    "warray.shape = 3,2\n",
    "print('设置shape后的数组:\\n',warray)\n",
    "print('原数组类型：',warray.dtype)\n",
    "print('新数据类型',warray.astype(np.float64).dtype)\n"
   ]
  },
  {
   "cell_type": "markdown",
   "metadata": {},
   "source": [
    "【例2-22】生成随机数。"
   ]
  },
  {
   "cell_type": "code",
   "execution_count": 22,
   "metadata": {},
   "outputs": [
    {
     "name": "stdout",
     "output_type": "stream",
     "text": [
      "arr1:\n",
      " [[124 181 162 136]\n",
      " [167 162 109 195]]\n",
      "arr2:\n",
      " [0.30613952 0.47194935 0.33142581 0.26346133 0.78248995]\n",
      "arr3:\n",
      " [[0.0725466  0.94778127]\n",
      " [0.68174658 0.20485257]\n",
      " [0.86811148 0.11551568]]\n"
     ]
    }
   ],
   "source": [
    "arr1 = np.random.randint(100,200,size = (2,4))\n",
    "print('arr1:\\n',arr1)\n",
    "arr2 = np.random.rand(5)\n",
    "print('arr2:\\n',arr2)\n",
    "arr3 = np.random.rand(3,2)\n",
    "print('arr3:\\n',arr3)\n"
   ]
  },
  {
   "cell_type": "markdown",
   "metadata": {},
   "source": [
    "【例2-23】改变数组维度。"
   ]
  },
  {
   "cell_type": "code",
   "execution_count": 23,
   "metadata": {},
   "outputs": [
    {
     "name": "stdout",
     "output_type": "stream",
     "text": [
      "arr1:\n",
      " [ 0  1  2  3  4  5  6  7  8  9 10 11]\n",
      "arr2:\n",
      " [[ 0  1  2  3]\n",
      " [ 4  5  6  7]\n",
      " [ 8  9 10 11]]\n",
      "arr3:\n",
      " [[ 0  1  2  3  4  5]\n",
      " [ 6  7  8  9 10 11]]\n"
     ]
    }
   ],
   "source": [
    "arr1 = np.arange(12)\n",
    "print('arr1:\\n',arr1)\n",
    "arr2=arr1.reshape(3,4)\n",
    "print('arr2:\\n',arr2)\n",
    "arr3 = arr1.reshape(2,-1)\n",
    "print('arr3:\\n',arr3)\n"
   ]
  },
  {
   "cell_type": "markdown",
   "metadata": {},
   "source": [
    "【例2-24】数据散开和数据扁平化。"
   ]
  },
  {
   "cell_type": "code",
   "execution_count": 24,
   "metadata": {},
   "outputs": [
    {
     "name": "stdout",
     "output_type": "stream",
     "text": [
      "arr1:\n",
      " [[ 0  1  2  3]\n",
      " [ 4  5  6  7]\n",
      " [ 8  9 10 11]]\n",
      "arr2: [ 0  1  2  3  4  5  6  7  8  9 10 11]\n",
      "arr3: [ 0  1  2  3  4  5  6  7  8  9 10 11]\n"
     ]
    }
   ],
   "source": [
    "arr1 = np.arange(12).reshape(3,4)\n",
    "print('arr1:\\n',arr1)\n",
    "arr2 = arr1.ravel()\n",
    "print('arr2:',arr2)\n",
    "arr3 = arr1.flatten()\n",
    "print('arr3:',arr3)\n"
   ]
  },
  {
   "cell_type": "markdown",
   "metadata": {},
   "source": [
    "【例2-25】两个数组组合。"
   ]
  },
  {
   "cell_type": "code",
   "execution_count": 25,
   "metadata": {},
   "outputs": [
    {
     "name": "stdout",
     "output_type": "stream",
     "text": [
      "横向合并：\n",
      " [[ 0  1  0  2]\n",
      " [ 2  3  4  6]\n",
      " [ 4  5  8 10]]\n",
      "纵向合并：\n",
      " [[ 0  1]\n",
      " [ 2  3]\n",
      " [ 4  5]\n",
      " [ 0  2]\n",
      " [ 4  6]\n",
      " [ 8 10]]\n"
     ]
    }
   ],
   "source": [
    "arr1 = np.arange(6).reshape(3,2)\n",
    "arr2 = arr1*2\n",
    "arr3 = np.hstack((arr1,arr2))\n",
    "print('横向合并：\\n',arr3)\n",
    "arr4 = np.vstack((arr1,arr2))\n",
    "print('纵向合并：\\n',arr4)\n"
   ]
  },
  {
   "cell_type": "markdown",
   "metadata": {},
   "source": [
    "【例2-26】concatenate函数合并数组。"
   ]
  },
  {
   "cell_type": "code",
   "execution_count": 26,
   "metadata": {},
   "outputs": [
    {
     "name": "stdout",
     "output_type": "stream",
     "text": [
      "横向组合为：\n",
      " [[ 0  1  0  2]\n",
      " [ 2  3  4  6]\n",
      " [ 4  5  8 10]]\n",
      "纵向组合为：\n",
      " [[ 0  1]\n",
      " [ 2  3]\n",
      " [ 4  5]\n",
      " [ 0  2]\n",
      " [ 4  6]\n",
      " [ 8 10]]\n"
     ]
    }
   ],
   "source": [
    "arr1 = np.arange(6).reshape(3,2)\n",
    "arr2 = arr1*2\n",
    "print('横向组合为：\\n',np.concatenate((arr1,arr2),axis = 1))\n",
    "print('纵向组合为：\\n',np.concatenate((arr1,arr2),axis = 0))\n"
   ]
  },
  {
   "cell_type": "markdown",
   "metadata": {},
   "source": [
    "【例2-27】数组的分割。"
   ]
  },
  {
   "cell_type": "code",
   "execution_count": 27,
   "metadata": {},
   "outputs": [
    {
     "name": "stdout",
     "output_type": "stream",
     "text": [
      "横向分割为:\n",
      " [array([[ 0,  1],\n",
      "       [ 4,  5],\n",
      "       [ 8,  9],\n",
      "       [12, 13]]), array([[ 2,  3],\n",
      "       [ 6,  7],\n",
      "       [10, 11],\n",
      "       [14, 15]])]\n",
      "纵向组合为:\n",
      " [array([[0, 1, 2, 3],\n",
      "       [4, 5, 6, 7]]), array([[ 8,  9, 10, 11],\n",
      "       [12, 13, 14, 15]])]\n"
     ]
    }
   ],
   "source": [
    "arr = np.arange(16).reshape(4,4)\n",
    "print('横向分割为:\\n',np.hsplit(arr,2))\n",
    "print('纵向组合为:\\n',np.vsplit(arr,2))\n"
   ]
  },
  {
   "cell_type": "markdown",
   "metadata": {},
   "source": [
    "【例2-28】数组利用transpose转置。"
   ]
  },
  {
   "cell_type": "code",
   "execution_count": 28,
   "metadata": {},
   "outputs": [
    {
     "name": "stdout",
     "output_type": "stream",
     "text": [
      "矩阵：\n",
      " [[0 1]\n",
      " [2 3]\n",
      " [4 5]]\n",
      "转置矩阵：\n",
      " [[0 2 4]\n",
      " [1 3 5]]\n"
     ]
    }
   ],
   "source": [
    "arr = np.arange(6).reshape(3,2)\n",
    "print('矩阵：\\n',arr)\n",
    "print('转置矩阵：\\n',arr.transpose((1,0)))\n"
   ]
  },
  {
   "cell_type": "markdown",
   "metadata": {},
   "source": [
    "【例2-29】一维数组的索引。"
   ]
  },
  {
   "cell_type": "code",
   "execution_count": 29,
   "metadata": {},
   "outputs": [
    {
     "name": "stdout",
     "output_type": "stream",
     "text": [
      "[0 1 2 3 4 5 6 7 8 9]\n",
      "2\n",
      "9\n",
      "[1 2 3]\n"
     ]
    }
   ],
   "source": [
    "arr = np.arange(10)\n",
    "print(arr)\n",
    "print(arr[2])\n",
    "print(arr[-1])\n",
    "print(arr[1:4])\n"
   ]
  },
  {
   "cell_type": "markdown",
   "metadata": {},
   "source": [
    "【例2-30】数组元素的复制。"
   ]
  },
  {
   "cell_type": "code",
   "execution_count": 30,
   "metadata": {},
   "outputs": [
    {
     "name": "stdout",
     "output_type": "stream",
     "text": [
      "[0 1 2 3 4 5 6 7 8 9]\n",
      "[6 7 8]\n"
     ]
    }
   ],
   "source": [
    "arr1 = arr[-4:-1].copy()\n",
    "print(arr)\n",
    "print(arr1)\n"
   ]
  },
  {
   "cell_type": "markdown",
   "metadata": {},
   "source": [
    "【例2-31】多维数组的索引。"
   ]
  },
  {
   "cell_type": "code",
   "execution_count": 31,
   "metadata": {},
   "outputs": [
    {
     "name": "stdout",
     "output_type": "stream",
     "text": [
      "[[ 0  1  2  3]\n",
      " [ 4  5  6  7]\n",
      " [ 8  9 10 11]]\n",
      "[1 2]\n",
      "[ 2  6 10]\n",
      "索引结果1： [1 7]\n",
      "索引结果2： [[4 6 7]]\n",
      "索引结果3： [1 9]\n"
     ]
    }
   ],
   "source": [
    "import numpy as np\n",
    "arr = np.arange(12).reshape(3,4)\n",
    "print(arr)\n",
    "print(arr[0,1:3])  #索引第0行中第1列到第2列的元素\n",
    "print(arr[:,2])   #索引第2列元素\n",
    "print('索引结果1：',arr[(0,1),(1,3)])\n",
    "#索引第1、2行中第0、2、3列的元素\n",
    "print('索引结果2：',arr[1:2,(0,2,3)])\n",
    "mask = np.array([1,0,1],dtype = np.bool)\n",
    "#mask是一个布尔数组，它索引第0,2行中第1列元素\n",
    "print('索引结果3：',arr[mask,1])\n"
   ]
  },
  {
   "cell_type": "markdown",
   "metadata": {},
   "source": [
    "【例2-32】数组元素的追加。"
   ]
  },
  {
   "cell_type": "code",
   "execution_count": 32,
   "metadata": {},
   "outputs": [
    {
     "name": "stdout",
     "output_type": "stream",
     "text": [
      "b数组： [1, 4, 9]\n",
      "c数组： [2 4 6]\n"
     ]
    }
   ],
   "source": [
    "a = [1,2,3]\n",
    "b = []\n",
    "for i in a:\n",
    "    b.append(i*i)\n",
    "print('b数组：',b)\n",
    "wy = np.array([1,2,3])\n",
    "c = wy*2\n",
    "print('c数组：',c)\n"
   ]
  },
  {
   "cell_type": "markdown",
   "metadata": {},
   "source": [
    "【例2-33】数组的四则运算。"
   ]
  },
  {
   "cell_type": "code",
   "execution_count": 33,
   "metadata": {},
   "outputs": [
    {
     "name": "stdout",
     "output_type": "stream",
     "text": [
      "数组相加结果： [5 7 9]\n",
      "数组相减结果： [-3 -3 -3]\n",
      "数组相乘结果： [ 4 10 18]\n",
      "数组幂运算结果： [  1  32 729]\n"
     ]
    }
   ],
   "source": [
    "x = np.array([1,2,3])\n",
    "y = np.array([4,5,6])\n",
    "print('数组相加结果：',x+y)\n",
    "print('数组相减结果：',x-y)\n",
    "print('数组相乘结果：',x*y)\n",
    "print('数组幂运算结果：',x**y)\n"
   ]
  },
  {
   "cell_type": "markdown",
   "metadata": {},
   "source": [
    "【例2-34】数组的比较运算。"
   ]
  },
  {
   "cell_type": "code",
   "execution_count": 34,
   "metadata": {},
   "outputs": [
    {
     "name": "stdout",
     "output_type": "stream",
     "text": [
      "比较结果(<)： [ True False False]\n",
      "比较结果(>)： [False False  True]\n",
      "比较结果(==)： [False  True False]\n",
      "比较结果(>=)： [False  True  True]\n",
      "比较结果(!=)： [ True False  True]\n"
     ]
    }
   ],
   "source": [
    "x = np.array([1,3,6])\n",
    "y = np.array([2,3,4])\n",
    "print('比较结果(<)：',x<y)\n",
    "print('比较结果(>)：',x>y)\n",
    "print('比较结果(==)：',x==y)\n",
    "print('比较结果(>=)：',x>=y)\n",
    "print('比较结果(!=)：',x!=y)\n"
   ]
  },
  {
   "cell_type": "markdown",
   "metadata": {},
   "source": [
    "【例2-35】ufunc函数的广播。"
   ]
  },
  {
   "cell_type": "code",
   "execution_count": 35,
   "metadata": {},
   "outputs": [
    {
     "name": "stdout",
     "output_type": "stream",
     "text": [
      "arr1:\n",
      " [[0 0 0]\n",
      " [1 1 1]\n",
      " [2 2 2]]\n",
      "arr2:\n",
      " [1 2 3]\n",
      "arr1+arr2:\n",
      " [[1 2 3]\n",
      " [2 3 4]\n",
      " [3 4 5]]\n"
     ]
    }
   ],
   "source": [
    "arr1 = np.array([[0,0,0],[1,1,1],[2,2,2]])\n",
    "arr2 = np.array([1,2,3])\n",
    "print('arr1:\\n',arr1)\n",
    "print('arr2:\\n',arr2)\n",
    "print('arr1+arr2:\\n',arr1+arr2)\n"
   ]
  },
  {
   "cell_type": "markdown",
   "metadata": {},
   "source": [
    "【例2-36】数组的条件逻辑运算。"
   ]
  },
  {
   "cell_type": "code",
   "execution_count": 36,
   "metadata": {},
   "outputs": [
    {
     "name": "stdout",
     "output_type": "stream",
     "text": [
      "[1, 4, 5, 8]\n"
     ]
    }
   ],
   "source": [
    "arr1 = np.array([1,3,5,7])\n",
    "arr2 = np.array([2,4,6,8])\n",
    "cond = np.array([True,False,True,False])\n",
    "result = [(x if c else y)for x,y,c in zip(arr1,arr2,cond)]\n",
    "print(result)\n"
   ]
  },
  {
   "cell_type": "markdown",
   "metadata": {},
   "source": [
    "【例2-37】where的基本用法。"
   ]
  },
  {
   "cell_type": "code",
   "execution_count": 37,
   "metadata": {},
   "outputs": [
    {
     "name": "stdout",
     "output_type": "stream",
     "text": [
      "[[1 8]\n",
      " [3 4]]\n",
      "(array([1, 2, 4], dtype=int64),)\n"
     ]
    }
   ],
   "source": [
    "print(np.where([[True,False], [True,True]],[[1,2], [3,4]],[[9,8], [7,6]]))\n",
    "w = np.array([2,5,6,3,10])\n",
    "print(np.where(w>4))\n"
   ]
  },
  {
   "cell_type": "markdown",
   "metadata": {},
   "source": [
    "【例2-38】使用sort函数进行排序。"
   ]
  },
  {
   "cell_type": "code",
   "execution_count": 38,
   "metadata": {},
   "outputs": [
    {
     "name": "stdout",
     "output_type": "stream",
     "text": [
      "原数组： [7 9 5 2 9 4 3 1 4 3]\n",
      "排序后： [1 2 3 3 4 4 5 7 9 9]\n"
     ]
    }
   ],
   "source": [
    "arr = np.array([7,9,5,2,9,4,3,1,4,3])\n",
    "print('原数组：',arr)\n",
    "arr.sort()\n",
    "print('排序后：',arr)\n"
   ]
  },
  {
   "cell_type": "markdown",
   "metadata": {},
   "source": [
    "【例2-39】带轴向参数的sort排序。"
   ]
  },
  {
   "cell_type": "code",
   "execution_count": 39,
   "metadata": {},
   "outputs": [
    {
     "name": "stdout",
     "output_type": "stream",
     "text": [
      "原数组：\n",
      " [[4 2 9 5]\n",
      " [6 4 8 3]\n",
      " [1 6 2 4]]\n",
      "横向排序后：\n",
      " [[2 4 5 9]\n",
      " [3 4 6 8]\n",
      " [1 2 4 6]]\n"
     ]
    }
   ],
   "source": [
    "arr = np.array([[4,2,9,5],[6,4,8,3],[1,6,2,4]])\n",
    "print('原数组：\\n',arr)\n",
    "arr.sort(axis = 1)   #沿横向排序\n",
    "print('横向排序后：\\n',arr)\n"
   ]
  },
  {
   "cell_type": "markdown",
   "metadata": {},
   "source": [
    "【例2-40】使用argsort和lexsort函数进行排序。"
   ]
  },
  {
   "cell_type": "code",
   "execution_count": 40,
   "metadata": {},
   "outputs": [
    {
     "name": "stdout",
     "output_type": "stream",
     "text": [
      "原数组： [7 9 5 2 9 4 3 1 4 3]\n",
      "排序后： [7 3 6 9 5 8 2 0 1 4]\n",
      "[4 2 6 5 3 1 0]\n"
     ]
    }
   ],
   "source": [
    "arr = np.array([7,9,5,2,9,4,3,1,4,3])\n",
    "print('原数组：',arr)\n",
    "print('排序后：',arr.argsort())\n",
    "#返回值为数组排序后的下标排列\n",
    "a=[2,5,8,4,3,7,6]\n",
    "b=[9,4,0,4,0,2,1]\n",
    "c=np.lexsort((a,b))\n",
    "print(c)\n"
   ]
  },
  {
   "cell_type": "markdown",
   "metadata": {},
   "source": [
    "【例2-41】数组内数据去重。"
   ]
  },
  {
   "cell_type": "code",
   "execution_count": 41,
   "metadata": {},
   "outputs": [
    {
     "name": "stdout",
     "output_type": "stream",
     "text": [
      "原数组： ['红色' '蓝色' '黄色' '白色' '红色']\n",
      "去重后的数组： ['白色' '红色' '蓝色' '黄色']\n"
     ]
    }
   ],
   "source": [
    "names = np.array(['红色','蓝色','黄色','白色','红色'])\n",
    "print('原数组：',names)\n",
    "print('去重后的数组：',np.unique(names)) \n"
   ]
  },
  {
   "cell_type": "markdown",
   "metadata": {},
   "source": [
    "【例2-42】使用tile函数实现数据重复。"
   ]
  },
  {
   "cell_type": "code",
   "execution_count": 42,
   "metadata": {},
   "outputs": [
    {
     "name": "stdout",
     "output_type": "stream",
     "text": [
      "原数组： [0 1 2 3 4]\n",
      "重复数据处理：\n",
      " [0 1 2 3 4 0 1 2 3 4 0 1 2 3 4]\n"
     ]
    }
   ],
   "source": [
    "arr = np.arange(5)\n",
    "print('原数组：',arr)\n",
    "wy = np.tile(arr,3)\n",
    "print('重复数据处理：\\n',wy) \n"
   ]
  },
  {
   "cell_type": "markdown",
   "metadata": {},
   "source": [
    "【例2-43】使用repeat函数实现数据重复。"
   ]
  },
  {
   "cell_type": "code",
   "execution_count": 43,
   "metadata": {},
   "outputs": [
    {
     "name": "stdout",
     "output_type": "stream",
     "text": [
      "原数组： [0 1 2 3 4]\n",
      "原数组重复3次：\n",
      " [0 1 2 3 4 0 1 2 3 4 0 1 2 3 4]\n",
      "重复数据处理：\n",
      " [[1 2 3]\n",
      " [1 2 3]\n",
      " [4 5 6]\n",
      " [4 5 6]]\n"
     ]
    }
   ],
   "source": [
    "import numpy as np\n",
    "arr1 = np.arange(5)\n",
    "print('原数组：',arr1)\n",
    "w1 = np.tile(arr1,3)\n",
    "print('原数组重复3次：\\n',np.tile(arr1,3))\n",
    "arr2 = np.array([[1,2,3],[4,5,6]])\n",
    "print('重复数据处理：\\n',arr2.repeat(2,axis=0))\n"
   ]
  },
  {
   "cell_type": "markdown",
   "metadata": {},
   "source": [
    "【例2-44】NumPy中常用函数的使用。"
   ]
  },
  {
   "cell_type": "code",
   "execution_count": 44,
   "metadata": {},
   "outputs": [
    {
     "name": "stdout",
     "output_type": "stream",
     "text": [
      "创建的数组：\n",
      " [[ 0  1  2  3  4]\n",
      " [ 5  6  7  8  9]\n",
      " [10 11 12 13 14]\n",
      " [15 16 17 18 19]]\n",
      "数组的和： 190\n",
      "数组纵轴的和： [30 34 38 42 46]\n",
      "数组横轴的和： [10 35 60 85]\n",
      "数组的均值： 9.5\n",
      "数组横轴的均值： [ 2.  7. 12. 17.]\n",
      "数组的标准差： 5.766281297335398\n",
      "数组横轴的标准差： [1.41421356 1.41421356 1.41421356 1.41421356]\n"
     ]
    }
   ],
   "source": [
    "arr = np.arange(20).reshape(4,5)\n",
    "print('创建的数组：\\n',arr)\n",
    "print('数组的和：',np.sum(arr))\n",
    "print('数组纵轴的和：',np.sum(arr,axis = 0))\n",
    "print('数组横轴的和：',np.sum(arr,axis = 1))\n",
    "print('数组的均值：',np.mean(arr))\n",
    "print('数组横轴的均值：',np.mean(arr,axis = 1))\n",
    "print('数组的标准差：',np.std(arr))\n",
    "print('数组横轴的标准差：',np.std(arr,axis = 1))\n"
   ]
  },
  {
   "cell_type": "markdown",
   "metadata": {},
   "source": [
    "【例2-45】通过列表创建Series。"
   ]
  },
  {
   "cell_type": "code",
   "execution_count": 45,
   "metadata": {},
   "outputs": [
    {
     "name": "stdout",
     "output_type": "stream",
     "text": [
      "0    1\n",
      "1   -2\n",
      "2    3\n",
      "3   -4\n",
      "dtype: int64\n",
      "a    2\n",
      "c    4\n",
      "d    5\n",
      "a    7\n",
      "Name: col, dtype: int64\n"
     ]
    }
   ],
   "source": [
    "import pandas as pd\n",
    "obj1 = pd.Series([1, -2, 3, -4]) \n",
    "print(obj1)\n",
    "i = [\"a\", \"c\", \"d\", \"a\"]\n",
    "v = [2, 4, 5, 7]\n",
    "obj2 = pd.Series(v, index = i, name = \"col\")\n",
    "print(obj2)\n"
   ]
  },
  {
   "cell_type": "markdown",
   "metadata": {},
   "source": [
    "【例2-46】通过字典创建Series。"
   ]
  },
  {
   "cell_type": "code",
   "execution_count": 46,
   "metadata": {},
   "outputs": [
    {
     "name": "stdout",
     "output_type": "stream",
     "text": [
      "Ohio      35000\n",
      "Texas     71000\n",
      "Oregon    16000\n",
      "Utah       5000\n",
      "dtype: int64\n"
     ]
    }
   ],
   "source": [
    "sdata = {'Ohio': 35000, 'Texas': 71000, 'Oregon': 16000, 'Utah': 5000}\n",
    "obj3 = pd.Series(sdata)\n",
    "print(obj3)\n"
   ]
  },
  {
   "cell_type": "markdown",
   "metadata": {},
   "source": [
    "【例2-47】不同索引数据的自动对齐。"
   ]
  },
  {
   "cell_type": "code",
   "execution_count": 47,
   "metadata": {},
   "outputs": [
    {
     "name": "stdout",
     "output_type": "stream",
     "text": [
      "California         NaN\n",
      "Ohio           70000.0\n",
      "Oregon         32000.0\n",
      "Texas         142000.0\n",
      "Utah               NaN\n",
      "dtype: float64\n"
     ]
    }
   ],
   "source": [
    "sdata = {'Ohio': 35000, 'Texas': 71000, 'Oregon': 16000, 'Utah': 5000}\n",
    "obj1 = pd.Series(sdata)\n",
    "states = ['California', 'Ohio', 'Oregon', 'Texas']\n",
    "obj2 = pd.Series(sdata, index = states)\n",
    "print(obj1+obj2)\n"
   ]
  },
  {
   "cell_type": "markdown",
   "metadata": {},
   "source": [
    "【例2-48】Series索引的修改。"
   ]
  },
  {
   "cell_type": "code",
   "execution_count": 48,
   "metadata": {},
   "outputs": [
    {
     "name": "stdout",
     "output_type": "stream",
     "text": [
      "Bob      4\n",
      "Steve    7\n",
      "Jeff    -3\n",
      "Ryan     2\n",
      "dtype: int64\n"
     ]
    }
   ],
   "source": [
    "obj = pd.Series([4,7,-3,2])\n",
    "obj.index = ['Bob', 'Steve', 'Jeff', 'Ryan']\n",
    "print(obj)\n"
   ]
  },
  {
   "cell_type": "markdown",
   "metadata": {},
   "source": [
    "【例2-49】DataFrame的索引。"
   ]
  },
  {
   "cell_type": "code",
   "execution_count": 49,
   "metadata": {},
   "outputs": [
    {
     "data": {
      "text/html": [
       "<div>\n",
       "<style scoped>\n",
       "    .dataframe tbody tr th:only-of-type {\n",
       "        vertical-align: middle;\n",
       "    }\n",
       "\n",
       "    .dataframe tbody tr th {\n",
       "        vertical-align: top;\n",
       "    }\n",
       "\n",
       "    .dataframe thead th {\n",
       "        text-align: right;\n",
       "    }\n",
       "</style>\n",
       "<table border=\"1\" class=\"dataframe\">\n",
       "  <thead>\n",
       "    <tr style=\"text-align: right;\">\n",
       "      <th></th>\n",
       "      <th>name</th>\n",
       "      <th>year</th>\n",
       "      <th>sex</th>\n",
       "      <th>city</th>\n",
       "    </tr>\n",
       "  </thead>\n",
       "  <tbody>\n",
       "    <tr>\n",
       "      <td>0</td>\n",
       "      <td>张三</td>\n",
       "      <td>2001</td>\n",
       "      <td>female</td>\n",
       "      <td>北京</td>\n",
       "    </tr>\n",
       "    <tr>\n",
       "      <td>1</td>\n",
       "      <td>李四</td>\n",
       "      <td>2001</td>\n",
       "      <td>female</td>\n",
       "      <td>上海</td>\n",
       "    </tr>\n",
       "    <tr>\n",
       "      <td>2</td>\n",
       "      <td>王五</td>\n",
       "      <td>2003</td>\n",
       "      <td>male</td>\n",
       "      <td>广州</td>\n",
       "    </tr>\n",
       "    <tr>\n",
       "      <td>3</td>\n",
       "      <td>小明</td>\n",
       "      <td>2002</td>\n",
       "      <td>male</td>\n",
       "      <td>北京</td>\n",
       "    </tr>\n",
       "  </tbody>\n",
       "</table>\n",
       "</div>"
      ],
      "text/plain": [
       "  name  year     sex city\n",
       "0   张三  2001  female   北京\n",
       "1   李四  2001  female   上海\n",
       "2   王五  2003    male   广州\n",
       "3   小明  2002    male   北京"
      ]
     },
     "metadata": {},
     "output_type": "display_data"
    }
   ],
   "source": [
    "data = {\n",
    "    'name':['张三', '李四', '王五', '小明'],\n",
    "    'sex':['female', 'female', 'male', 'male'],\n",
    "    'year':[2001, 2001, 2003, 2002],\n",
    "    'city':['北京', '上海', '广州', '北京']\n",
    "}\n",
    "df1= pd.DataFrame(data, columns = ['name', 'year', 'sex', 'city'])\n",
    "display(df1)\n"
   ]
  },
  {
   "cell_type": "markdown",
   "metadata": {},
   "source": [
    "【例2-50】显示DataFrame的索引和列。"
   ]
  },
  {
   "cell_type": "code",
   "execution_count": 50,
   "metadata": {},
   "outputs": [
    {
     "data": {
      "text/html": [
       "<div>\n",
       "<style scoped>\n",
       "    .dataframe tbody tr th:only-of-type {\n",
       "        vertical-align: middle;\n",
       "    }\n",
       "\n",
       "    .dataframe tbody tr th {\n",
       "        vertical-align: top;\n",
       "    }\n",
       "\n",
       "    .dataframe thead th {\n",
       "        text-align: right;\n",
       "    }\n",
       "</style>\n",
       "<table border=\"1\" class=\"dataframe\">\n",
       "  <thead>\n",
       "    <tr style=\"text-align: right;\">\n",
       "      <th></th>\n",
       "      <th>name</th>\n",
       "      <th>year</th>\n",
       "      <th>sex</th>\n",
       "      <th>city</th>\n",
       "    </tr>\n",
       "  </thead>\n",
       "  <tbody>\n",
       "    <tr>\n",
       "      <td>0</td>\n",
       "      <td>张三</td>\n",
       "      <td>2001</td>\n",
       "      <td>female</td>\n",
       "      <td>北京</td>\n",
       "    </tr>\n",
       "    <tr>\n",
       "      <td>1</td>\n",
       "      <td>李四</td>\n",
       "      <td>2001</td>\n",
       "      <td>female</td>\n",
       "      <td>上海</td>\n",
       "    </tr>\n",
       "    <tr>\n",
       "      <td>2</td>\n",
       "      <td>王五</td>\n",
       "      <td>2003</td>\n",
       "      <td>male</td>\n",
       "      <td>广州</td>\n",
       "    </tr>\n",
       "    <tr>\n",
       "      <td>3</td>\n",
       "      <td>小明</td>\n",
       "      <td>2002</td>\n",
       "      <td>male</td>\n",
       "      <td>北京</td>\n",
       "    </tr>\n",
       "  </tbody>\n",
       "</table>\n",
       "</div>"
      ],
      "text/plain": [
       "  name  year     sex city\n",
       "0   张三  2001  female   北京\n",
       "1   李四  2001  female   上海\n",
       "2   王五  2003    male   广州\n",
       "3   小明  2002    male   北京"
      ]
     },
     "metadata": {},
     "output_type": "display_data"
    },
    {
     "name": "stdout",
     "output_type": "stream",
     "text": [
      "RangeIndex(start=0, stop=4, step=1)\n",
      "Index(['name', 'year', 'sex', 'city'], dtype='object')\n"
     ]
    }
   ],
   "source": [
    "display(df1) \n",
    "print(df1.index)\n",
    "print(df1.columns)\n"
   ]
  },
  {
   "cell_type": "markdown",
   "metadata": {},
   "source": [
    "【例2-51】重建索引"
   ]
  },
  {
   "cell_type": "code",
   "execution_count": 51,
   "metadata": {},
   "outputs": [
    {
     "data": {
      "text/plain": [
       "a   -3.3\n",
       "b    7.2\n",
       "c    3.6\n",
       "d    3.5\n",
       "e    NaN\n",
       "dtype: float64"
      ]
     },
     "execution_count": 51,
     "metadata": {},
     "output_type": "execute_result"
    }
   ],
   "source": [
    "obj = pd.Series([7.2,-3.3,3.5,3.6],index = ['b', 'a',\n",
    "'d', 'c'])\n",
    "obj.reindex(['a','b','c','d','e'])\n"
   ]
  },
  {
   "cell_type": "markdown",
   "metadata": {},
   "source": [
    "【例2-52】重建索引时填充缺失值。\n",
    "\n",
    "对于顺序数据，比如时间序列，重新索引时可能需要进行插值或填值处理，利用参数method选项可以设置：\n",
    "\tmethod = ‘ffill’或‘pad’，表示前向值填充\n",
    "\tmethod = ‘bfill’或‘backfill’，表示后向值填充\n"
   ]
  },
  {
   "cell_type": "code",
   "execution_count": 52,
   "metadata": {},
   "outputs": [
    {
     "data": {
      "text/plain": [
       "a   -3.3\n",
       "b    7.2\n",
       "c    3.6\n",
       "d    3.5\n",
       "e    0.0\n",
       "dtype: float64"
      ]
     },
     "execution_count": 52,
     "metadata": {},
     "output_type": "execute_result"
    }
   ],
   "source": [
    "obj.reindex(['a', 'b', 'c', 'd', 'e'], fill_value = 0)"
   ]
  },
  {
   "cell_type": "markdown",
   "metadata": {},
   "source": [
    "【例2-53】缺失值的前向填充。"
   ]
  },
  {
   "cell_type": "code",
   "execution_count": 53,
   "metadata": {},
   "outputs": [
    {
     "data": {
      "text/plain": [
       "0     blue\n",
       "1     blue\n",
       "2      red\n",
       "3      red\n",
       "4    black\n",
       "5    black\n",
       "dtype: object"
      ]
     },
     "execution_count": 53,
     "metadata": {},
     "output_type": "execute_result"
    }
   ],
   "source": [
    "import numpy as np\n",
    "obj1 = pd.Series(['blue','red','black'],index = [0,2,4])\n",
    "obj1.reindex(np.arange(6),method = 'ffill')\n"
   ]
  },
  {
   "cell_type": "markdown",
   "metadata": {},
   "source": [
    "【例2-54】DataFrame数据。"
   ]
  },
  {
   "cell_type": "code",
   "execution_count": 54,
   "metadata": {},
   "outputs": [
    {
     "data": {
      "text/html": [
       "<div>\n",
       "<style scoped>\n",
       "    .dataframe tbody tr th:only-of-type {\n",
       "        vertical-align: middle;\n",
       "    }\n",
       "\n",
       "    .dataframe tbody tr th {\n",
       "        vertical-align: top;\n",
       "    }\n",
       "\n",
       "    .dataframe thead th {\n",
       "        text-align: right;\n",
       "    }\n",
       "</style>\n",
       "<table border=\"1\" class=\"dataframe\">\n",
       "  <thead>\n",
       "    <tr style=\"text-align: right;\">\n",
       "      <th></th>\n",
       "      <th>one</th>\n",
       "      <th>two</th>\n",
       "      <th>four</th>\n",
       "    </tr>\n",
       "  </thead>\n",
       "  <tbody>\n",
       "    <tr>\n",
       "      <td>a</td>\n",
       "      <td>0</td>\n",
       "      <td>1</td>\n",
       "      <td>2</td>\n",
       "    </tr>\n",
       "    <tr>\n",
       "      <td>c</td>\n",
       "      <td>3</td>\n",
       "      <td>4</td>\n",
       "      <td>5</td>\n",
       "    </tr>\n",
       "    <tr>\n",
       "      <td>d</td>\n",
       "      <td>6</td>\n",
       "      <td>7</td>\n",
       "      <td>8</td>\n",
       "    </tr>\n",
       "  </tbody>\n",
       "</table>\n",
       "</div>"
      ],
      "text/plain": [
       "   one  two  four\n",
       "a    0    1     2\n",
       "c    3    4     5\n",
       "d    6    7     8"
      ]
     },
     "metadata": {},
     "output_type": "display_data"
    },
    {
     "data": {
      "text/html": [
       "<div>\n",
       "<style scoped>\n",
       "    .dataframe tbody tr th:only-of-type {\n",
       "        vertical-align: middle;\n",
       "    }\n",
       "\n",
       "    .dataframe tbody tr th {\n",
       "        vertical-align: top;\n",
       "    }\n",
       "\n",
       "    .dataframe thead th {\n",
       "        text-align: right;\n",
       "    }\n",
       "</style>\n",
       "<table border=\"1\" class=\"dataframe\">\n",
       "  <thead>\n",
       "    <tr style=\"text-align: right;\">\n",
       "      <th></th>\n",
       "      <th>one</th>\n",
       "      <th>two</th>\n",
       "      <th>three</th>\n",
       "      <th>four</th>\n",
       "    </tr>\n",
       "  </thead>\n",
       "  <tbody>\n",
       "    <tr>\n",
       "      <td>a</td>\n",
       "      <td>0.0</td>\n",
       "      <td>1.0</td>\n",
       "      <td>NaN</td>\n",
       "      <td>2.0</td>\n",
       "    </tr>\n",
       "    <tr>\n",
       "      <td>b</td>\n",
       "      <td>NaN</td>\n",
       "      <td>NaN</td>\n",
       "      <td>NaN</td>\n",
       "      <td>NaN</td>\n",
       "    </tr>\n",
       "    <tr>\n",
       "      <td>c</td>\n",
       "      <td>3.0</td>\n",
       "      <td>4.0</td>\n",
       "      <td>NaN</td>\n",
       "      <td>5.0</td>\n",
       "    </tr>\n",
       "    <tr>\n",
       "      <td>d</td>\n",
       "      <td>6.0</td>\n",
       "      <td>7.0</td>\n",
       "      <td>NaN</td>\n",
       "      <td>8.0</td>\n",
       "    </tr>\n",
       "  </tbody>\n",
       "</table>\n",
       "</div>"
      ],
      "text/plain": [
       "   one  two  three  four\n",
       "a  0.0  1.0    NaN   2.0\n",
       "b  NaN  NaN    NaN   NaN\n",
       "c  3.0  4.0    NaN   5.0\n",
       "d  6.0  7.0    NaN   8.0"
      ]
     },
     "execution_count": 54,
     "metadata": {},
     "output_type": "execute_result"
    }
   ],
   "source": [
    "df2 = pd.DataFrame(np.arange(9).reshape(3,3),\n",
    "index = ['a','c','d'],columns = ['one','two','four'])\n",
    "display(df2)\n",
    "df2.reindex(index = ['a','b','c','d'],columns = ['one','two','three','four'])\n"
   ]
  },
  {
   "cell_type": "markdown",
   "metadata": {},
   "source": [
    "【例2-55】传入fill_value = n填充缺失值。"
   ]
  },
  {
   "cell_type": "code",
   "execution_count": 55,
   "metadata": {},
   "outputs": [
    {
     "data": {
      "text/html": [
       "<div>\n",
       "<style scoped>\n",
       "    .dataframe tbody tr th:only-of-type {\n",
       "        vertical-align: middle;\n",
       "    }\n",
       "\n",
       "    .dataframe tbody tr th {\n",
       "        vertical-align: top;\n",
       "    }\n",
       "\n",
       "    .dataframe thead th {\n",
       "        text-align: right;\n",
       "    }\n",
       "</style>\n",
       "<table border=\"1\" class=\"dataframe\">\n",
       "  <thead>\n",
       "    <tr style=\"text-align: right;\">\n",
       "      <th></th>\n",
       "      <th>one</th>\n",
       "      <th>two</th>\n",
       "      <th>three</th>\n",
       "      <th>four</th>\n",
       "    </tr>\n",
       "  </thead>\n",
       "  <tbody>\n",
       "    <tr>\n",
       "      <td>a</td>\n",
       "      <td>0</td>\n",
       "      <td>1</td>\n",
       "      <td>100</td>\n",
       "      <td>2</td>\n",
       "    </tr>\n",
       "    <tr>\n",
       "      <td>b</td>\n",
       "      <td>100</td>\n",
       "      <td>100</td>\n",
       "      <td>100</td>\n",
       "      <td>100</td>\n",
       "    </tr>\n",
       "    <tr>\n",
       "      <td>c</td>\n",
       "      <td>3</td>\n",
       "      <td>4</td>\n",
       "      <td>100</td>\n",
       "      <td>5</td>\n",
       "    </tr>\n",
       "    <tr>\n",
       "      <td>d</td>\n",
       "      <td>6</td>\n",
       "      <td>7</td>\n",
       "      <td>100</td>\n",
       "      <td>8</td>\n",
       "    </tr>\n",
       "  </tbody>\n",
       "</table>\n",
       "</div>"
      ],
      "text/plain": [
       "   one  two  three  four\n",
       "a    0    1    100     2\n",
       "b  100  100    100   100\n",
       "c    3    4    100     5\n",
       "d    6    7    100     8"
      ]
     },
     "execution_count": 55,
     "metadata": {},
     "output_type": "execute_result"
    }
   ],
   "source": [
    "df2.reindex(index = ['a','b','c','d'],columns = ['one','two','three','four'], fill_value = 100)"
   ]
  },
  {
   "cell_type": "markdown",
   "metadata": {},
   "source": [
    "【例2-56】重建索引。"
   ]
  },
  {
   "cell_type": "code",
   "execution_count": 56,
   "metadata": {},
   "outputs": [
    {
     "data": {
      "text/html": [
       "<div>\n",
       "<style scoped>\n",
       "    .dataframe tbody tr th:only-of-type {\n",
       "        vertical-align: middle;\n",
       "    }\n",
       "\n",
       "    .dataframe tbody tr th {\n",
       "        vertical-align: top;\n",
       "    }\n",
       "\n",
       "    .dataframe thead th {\n",
       "        text-align: right;\n",
       "    }\n",
       "</style>\n",
       "<table border=\"1\" class=\"dataframe\">\n",
       "  <thead>\n",
       "    <tr style=\"text-align: right;\">\n",
       "      <th></th>\n",
       "      <th>name</th>\n",
       "      <th>year</th>\n",
       "      <th>sex</th>\n",
       "    </tr>\n",
       "    <tr>\n",
       "      <th>city</th>\n",
       "      <th></th>\n",
       "      <th></th>\n",
       "      <th></th>\n",
       "    </tr>\n",
       "  </thead>\n",
       "  <tbody>\n",
       "    <tr>\n",
       "      <td>北京</td>\n",
       "      <td>张三</td>\n",
       "      <td>2001</td>\n",
       "      <td>female</td>\n",
       "    </tr>\n",
       "    <tr>\n",
       "      <td>上海</td>\n",
       "      <td>李四</td>\n",
       "      <td>2001</td>\n",
       "      <td>female</td>\n",
       "    </tr>\n",
       "    <tr>\n",
       "      <td>广州</td>\n",
       "      <td>王五</td>\n",
       "      <td>2003</td>\n",
       "      <td>male</td>\n",
       "    </tr>\n",
       "    <tr>\n",
       "      <td>北京</td>\n",
       "      <td>小明</td>\n",
       "      <td>2002</td>\n",
       "      <td>male</td>\n",
       "    </tr>\n",
       "  </tbody>\n",
       "</table>\n",
       "</div>"
      ],
      "text/plain": [
       "     name  year     sex\n",
       "city                   \n",
       "北京     张三  2001  female\n",
       "上海     李四  2001  female\n",
       "广州     王五  2003    male\n",
       "北京     小明  2002    male"
      ]
     },
     "metadata": {},
     "output_type": "display_data"
    }
   ],
   "source": [
    "df3=df1.set_index('city')\n",
    "display(df3)\n"
   ]
  },
  {
   "cell_type": "markdown",
   "metadata": {},
   "source": [
    "【例2-57】显示DataFrame的属性。"
   ]
  },
  {
   "cell_type": "code",
   "execution_count": 57,
   "metadata": {},
   "outputs": [
    {
     "name": "stdout",
     "output_type": "stream",
     "text": [
      "信息表的所有值为：\n",
      " [['张三' 2001 'female']\n",
      " ['李四' 2001 'female']\n",
      " ['王五' 2003 'male']\n",
      " ['小明' 2002 'male']]\n",
      "信息表的所有列为：\n",
      " Index(['name', 'year', 'sex'], dtype='object')\n",
      "信息表的元素个数为： 12\n",
      "信息表的维度是： 2\n",
      "信息表的形状为： (4, 3)\n"
     ]
    }
   ],
   "source": [
    "print('信息表的所有值为：\\n',df3.values)\n",
    "print('信息表的所有列为：\\n',df3.columns)\n",
    "print('信息表的元素个数为：',df3.size)\n",
    "print('信息表的维度是：',df3.ndim)\n",
    "print('信息表的形状为：',df3.shape)\n"
   ]
  },
  {
   "cell_type": "markdown",
   "metadata": {},
   "source": [
    "【例2-58】选取列数据。"
   ]
  },
  {
   "cell_type": "code",
   "execution_count": 58,
   "metadata": {},
   "outputs": [
    {
     "name": "stdout",
     "output_type": "stream",
     "text": [
      "选取1列数据：\n",
      " city\n",
      "北京    张三\n",
      "上海    李四\n",
      "广州    王五\n",
      "北京    小明\n",
      "Name: name, dtype: object\n",
      "选取2列数据：\n",
      "      name  year\n",
      "city           \n",
      "北京     张三  2001\n",
      "上海     李四  2001\n",
      "广州     王五  2003\n",
      "北京     小明  2002\n"
     ]
    }
   ],
   "source": [
    "w1 = df3['name']\n",
    "print('选取1列数据：\\n',w1)\n",
    "w2 = df3[['name','year']]\n",
    "print('选取2列数据：\\n',w2)\n"
   ]
  },
  {
   "cell_type": "markdown",
   "metadata": {},
   "source": [
    "【例2-59】选取行数据。"
   ]
  },
  {
   "cell_type": "code",
   "execution_count": 59,
   "metadata": {},
   "outputs": [
    {
     "data": {
      "text/html": [
       "<div>\n",
       "<style scoped>\n",
       "    .dataframe tbody tr th:only-of-type {\n",
       "        vertical-align: middle;\n",
       "    }\n",
       "\n",
       "    .dataframe tbody tr th {\n",
       "        vertical-align: top;\n",
       "    }\n",
       "\n",
       "    .dataframe thead th {\n",
       "        text-align: right;\n",
       "    }\n",
       "</style>\n",
       "<table border=\"1\" class=\"dataframe\">\n",
       "  <thead>\n",
       "    <tr style=\"text-align: right;\">\n",
       "      <th></th>\n",
       "      <th>name</th>\n",
       "      <th>year</th>\n",
       "      <th>sex</th>\n",
       "    </tr>\n",
       "    <tr>\n",
       "      <th>city</th>\n",
       "      <th></th>\n",
       "      <th></th>\n",
       "      <th></th>\n",
       "    </tr>\n",
       "  </thead>\n",
       "  <tbody>\n",
       "    <tr>\n",
       "      <td>北京</td>\n",
       "      <td>张三</td>\n",
       "      <td>2001</td>\n",
       "      <td>female</td>\n",
       "    </tr>\n",
       "    <tr>\n",
       "      <td>上海</td>\n",
       "      <td>李四</td>\n",
       "      <td>2001</td>\n",
       "      <td>female</td>\n",
       "    </tr>\n",
       "    <tr>\n",
       "      <td>广州</td>\n",
       "      <td>王五</td>\n",
       "      <td>2003</td>\n",
       "      <td>male</td>\n",
       "    </tr>\n",
       "    <tr>\n",
       "      <td>北京</td>\n",
       "      <td>小明</td>\n",
       "      <td>2002</td>\n",
       "      <td>male</td>\n",
       "    </tr>\n",
       "  </tbody>\n",
       "</table>\n",
       "</div>"
      ],
      "text/plain": [
       "     name  year     sex\n",
       "city                   \n",
       "北京     张三  2001  female\n",
       "上海     李四  2001  female\n",
       "广州     王五  2003    male\n",
       "北京     小明  2002    male"
      ]
     },
     "metadata": {},
     "output_type": "display_data"
    },
    {
     "name": "stdout",
     "output_type": "stream",
     "text": [
      "显示前2行:\n",
      "      name  year     sex\n",
      "city                   \n",
      "北京     张三  2001  female\n",
      "上海     李四  2001  female\n",
      "显示2-3两行:\n",
      "      name  year     sex\n",
      "city                   \n",
      "上海     李四  2001  female\n",
      "广州     王五  2003    male\n"
     ]
    }
   ],
   "source": [
    "display(df3)\n",
    "print('显示前2行:\\n',df3[:2])  \n",
    "print('显示2-3两行:\\n',df3[1:3])\n"
   ]
  },
  {
   "cell_type": "markdown",
   "metadata": {},
   "source": [
    "【例2-60】利用loc和iloc选取行和列。"
   ]
  },
  {
   "cell_type": "code",
   "execution_count": 60,
   "metadata": {},
   "outputs": [
    {
     "data": {
      "text/html": [
       "<div>\n",
       "<style scoped>\n",
       "    .dataframe tbody tr th:only-of-type {\n",
       "        vertical-align: middle;\n",
       "    }\n",
       "\n",
       "    .dataframe tbody tr th {\n",
       "        vertical-align: top;\n",
       "    }\n",
       "\n",
       "    .dataframe thead th {\n",
       "        text-align: right;\n",
       "    }\n",
       "</style>\n",
       "<table border=\"1\" class=\"dataframe\">\n",
       "  <thead>\n",
       "    <tr style=\"text-align: right;\">\n",
       "      <th></th>\n",
       "      <th>name</th>\n",
       "      <th>year</th>\n",
       "    </tr>\n",
       "    <tr>\n",
       "      <th>city</th>\n",
       "      <th></th>\n",
       "      <th></th>\n",
       "    </tr>\n",
       "  </thead>\n",
       "  <tbody>\n",
       "    <tr>\n",
       "      <td>北京</td>\n",
       "      <td>张三</td>\n",
       "      <td>2001</td>\n",
       "    </tr>\n",
       "    <tr>\n",
       "      <td>上海</td>\n",
       "      <td>李四</td>\n",
       "      <td>2001</td>\n",
       "    </tr>\n",
       "    <tr>\n",
       "      <td>广州</td>\n",
       "      <td>王五</td>\n",
       "      <td>2003</td>\n",
       "    </tr>\n",
       "    <tr>\n",
       "      <td>北京</td>\n",
       "      <td>小明</td>\n",
       "      <td>2002</td>\n",
       "    </tr>\n",
       "  </tbody>\n",
       "</table>\n",
       "</div>"
      ],
      "text/plain": [
       "     name  year\n",
       "city           \n",
       "北京     张三  2001\n",
       "上海     李四  2001\n",
       "广州     王五  2003\n",
       "北京     小明  2002"
      ]
     },
     "metadata": {},
     "output_type": "display_data"
    },
    {
     "data": {
      "text/html": [
       "<div>\n",
       "<style scoped>\n",
       "    .dataframe tbody tr th:only-of-type {\n",
       "        vertical-align: middle;\n",
       "    }\n",
       "\n",
       "    .dataframe tbody tr th {\n",
       "        vertical-align: top;\n",
       "    }\n",
       "\n",
       "    .dataframe thead th {\n",
       "        text-align: right;\n",
       "    }\n",
       "</style>\n",
       "<table border=\"1\" class=\"dataframe\">\n",
       "  <thead>\n",
       "    <tr style=\"text-align: right;\">\n",
       "      <th></th>\n",
       "      <th>name</th>\n",
       "      <th>year</th>\n",
       "      <th>sex</th>\n",
       "    </tr>\n",
       "    <tr>\n",
       "      <th>city</th>\n",
       "      <th></th>\n",
       "      <th></th>\n",
       "      <th></th>\n",
       "    </tr>\n",
       "  </thead>\n",
       "  <tbody>\n",
       "    <tr>\n",
       "      <td>上海</td>\n",
       "      <td>李四</td>\n",
       "      <td>2001</td>\n",
       "      <td>female</td>\n",
       "    </tr>\n",
       "    <tr>\n",
       "      <td>北京</td>\n",
       "      <td>小明</td>\n",
       "      <td>2002</td>\n",
       "      <td>male</td>\n",
       "    </tr>\n",
       "  </tbody>\n",
       "</table>\n",
       "</div>"
      ],
      "text/plain": [
       "     name  year     sex\n",
       "city                   \n",
       "上海     李四  2001  female\n",
       "北京     小明  2002    male"
      ]
     },
     "metadata": {},
     "output_type": "display_data"
    },
    {
     "data": {
      "text/html": [
       "<div>\n",
       "<style scoped>\n",
       "    .dataframe tbody tr th:only-of-type {\n",
       "        vertical-align: middle;\n",
       "    }\n",
       "\n",
       "    .dataframe tbody tr th {\n",
       "        vertical-align: top;\n",
       "    }\n",
       "\n",
       "    .dataframe thead th {\n",
       "        text-align: right;\n",
       "    }\n",
       "</style>\n",
       "<table border=\"1\" class=\"dataframe\">\n",
       "  <thead>\n",
       "    <tr style=\"text-align: right;\">\n",
       "      <th></th>\n",
       "      <th>year</th>\n",
       "      <th>sex</th>\n",
       "    </tr>\n",
       "    <tr>\n",
       "      <th>city</th>\n",
       "      <th></th>\n",
       "      <th></th>\n",
       "    </tr>\n",
       "  </thead>\n",
       "  <tbody>\n",
       "    <tr>\n",
       "      <td>上海</td>\n",
       "      <td>2001</td>\n",
       "      <td>female</td>\n",
       "    </tr>\n",
       "    <tr>\n",
       "      <td>北京</td>\n",
       "      <td>2002</td>\n",
       "      <td>male</td>\n",
       "    </tr>\n",
       "  </tbody>\n",
       "</table>\n",
       "</div>"
      ],
      "text/plain": [
       "      year     sex\n",
       "city              \n",
       "上海    2001  female\n",
       "北京    2002    male"
      ]
     },
     "metadata": {},
     "output_type": "display_data"
    }
   ],
   "source": [
    "display(df3.loc[:,['name','year']] ) \n",
    "#显示name和year两列\n",
    "display(df3.iloc[[1,3]]) \n",
    "#显示第1和第3行\n",
    "display(df3.iloc[[1,3],[1,2]])\n"
   ]
  },
  {
   "cell_type": "markdown",
   "metadata": {},
   "source": [
    "使用loc和isin两个函数配合使用，按指定条件对数据进行提取。\n",
    "\n",
    "如执行语句df5.loc[df5['year'].isin(['2001','2003'])]可以查询2001和2003年的数据。"
   ]
  },
  {
   "cell_type": "markdown",
   "metadata": {},
   "source": [
    "【例2-61】布尔选择。"
   ]
  },
  {
   "cell_type": "code",
   "execution_count": 61,
   "metadata": {},
   "outputs": [
    {
     "data": {
      "text/html": [
       "<div>\n",
       "<style scoped>\n",
       "    .dataframe tbody tr th:only-of-type {\n",
       "        vertical-align: middle;\n",
       "    }\n",
       "\n",
       "    .dataframe tbody tr th {\n",
       "        vertical-align: top;\n",
       "    }\n",
       "\n",
       "    .dataframe thead th {\n",
       "        text-align: right;\n",
       "    }\n",
       "</style>\n",
       "<table border=\"1\" class=\"dataframe\">\n",
       "  <thead>\n",
       "    <tr style=\"text-align: right;\">\n",
       "      <th></th>\n",
       "      <th>name</th>\n",
       "      <th>year</th>\n",
       "      <th>sex</th>\n",
       "    </tr>\n",
       "    <tr>\n",
       "      <th>city</th>\n",
       "      <th></th>\n",
       "      <th></th>\n",
       "      <th></th>\n",
       "    </tr>\n",
       "  </thead>\n",
       "  <tbody>\n",
       "    <tr>\n",
       "      <td>北京</td>\n",
       "      <td>张三</td>\n",
       "      <td>2001</td>\n",
       "      <td>female</td>\n",
       "    </tr>\n",
       "    <tr>\n",
       "      <td>上海</td>\n",
       "      <td>李四</td>\n",
       "      <td>2001</td>\n",
       "      <td>female</td>\n",
       "    </tr>\n",
       "  </tbody>\n",
       "</table>\n",
       "</div>"
      ],
      "text/plain": [
       "     name  year     sex\n",
       "city                   \n",
       "北京     张三  2001  female\n",
       "上海     李四  2001  female"
      ]
     },
     "execution_count": 61,
     "metadata": {},
     "output_type": "execute_result"
    }
   ],
   "source": [
    "df3[df3['year']==2001]"
   ]
  },
  {
   "cell_type": "markdown",
   "metadata": {},
   "source": [
    "\n",
    "df = pd.DataFrame({'price': [1.99, 3, 5, 0.5, 3.5, 5.5, 3.9]})\n",
    "\n",
    "df[(df.price >= 2) & (df.price <= 4)]"
   ]
  },
  {
   "cell_type": "markdown",
   "metadata": {},
   "source": [
    "DataFrame行和列的选取还可以通过Pandas的query方法实现。\n",
    "\n",
    "用法：\n",
    "\n",
    "pandas.DataFrame.query(self, expr, inplace=False, **kwargs)\n",
    "\n",
    "其中，参数expr是要评估的查询字符串，kwargs是dict关键字参数。\n",
    "\n",
    "display(df5.query(' year>2001'))\n",
    "\n",
    "display(df5.query('year>2001 & year<2003'))"
   ]
  },
  {
   "cell_type": "markdown",
   "metadata": {},
   "source": [
    " 数据编辑"
   ]
  },
  {
   "cell_type": "markdown",
   "metadata": {},
   "source": [
    "【例2-62】增加数据。"
   ]
  },
  {
   "cell_type": "code",
   "execution_count": 62,
   "metadata": {},
   "outputs": [
    {
     "data": {
      "text/html": [
       "<div>\n",
       "<style scoped>\n",
       "    .dataframe tbody tr th:only-of-type {\n",
       "        vertical-align: middle;\n",
       "    }\n",
       "\n",
       "    .dataframe tbody tr th {\n",
       "        vertical-align: top;\n",
       "    }\n",
       "\n",
       "    .dataframe thead th {\n",
       "        text-align: right;\n",
       "    }\n",
       "</style>\n",
       "<table border=\"1\" class=\"dataframe\">\n",
       "  <thead>\n",
       "    <tr style=\"text-align: right;\">\n",
       "      <th></th>\n",
       "      <th>name</th>\n",
       "      <th>year</th>\n",
       "      <th>sex</th>\n",
       "      <th>city</th>\n",
       "      <th>age</th>\n",
       "      <th>C</th>\n",
       "    </tr>\n",
       "  </thead>\n",
       "  <tbody>\n",
       "    <tr>\n",
       "      <td>0</td>\n",
       "      <td>张三</td>\n",
       "      <td>2001</td>\n",
       "      <td>female</td>\n",
       "      <td>NaN</td>\n",
       "      <td>20</td>\n",
       "      <td>85</td>\n",
       "    </tr>\n",
       "    <tr>\n",
       "      <td>1</td>\n",
       "      <td>李四</td>\n",
       "      <td>2001</td>\n",
       "      <td>female</td>\n",
       "      <td>NaN</td>\n",
       "      <td>20</td>\n",
       "      <td>78</td>\n",
       "    </tr>\n",
       "    <tr>\n",
       "      <td>2</td>\n",
       "      <td>王五</td>\n",
       "      <td>2003</td>\n",
       "      <td>male</td>\n",
       "      <td>NaN</td>\n",
       "      <td>20</td>\n",
       "      <td>96</td>\n",
       "    </tr>\n",
       "    <tr>\n",
       "      <td>3</td>\n",
       "      <td>小明</td>\n",
       "      <td>2002</td>\n",
       "      <td>male</td>\n",
       "      <td>NaN</td>\n",
       "      <td>20</td>\n",
       "      <td>80</td>\n",
       "    </tr>\n",
       "    <tr>\n",
       "      <td>4</td>\n",
       "      <td>小军</td>\n",
       "      <td>2005</td>\n",
       "      <td>female</td>\n",
       "      <td>兰州</td>\n",
       "      <td>20</td>\n",
       "      <td>93</td>\n",
       "    </tr>\n",
       "  </tbody>\n",
       "</table>\n",
       "</div>"
      ],
      "text/plain": [
       "  name  year     sex city  age   C\n",
       "0   张三  2001  female  NaN   20  85\n",
       "1   李四  2001  female  NaN   20  78\n",
       "2   王五  2003    male  NaN   20  96\n",
       "3   小明  2002    male  NaN   20  80\n",
       "4   小军  2005  female   兰州   20  93"
      ]
     },
     "metadata": {},
     "output_type": "display_data"
    }
   ],
   "source": [
    "data1 = {'city':'兰州','name':'小军','year':2005,'sex':'female'}\n",
    "df4=df3.append(data1,ignore_index = True)\n",
    "df4['age'] = 20\n",
    "df4['C'] = [85,78,96,80,93]\n",
    "display(df4)\n"
   ]
  },
  {
   "cell_type": "markdown",
   "metadata": {},
   "source": [
    "【例2-63】删除数据。"
   ]
  },
  {
   "cell_type": "code",
   "execution_count": 63,
   "metadata": {},
   "outputs": [
    {
     "data": {
      "text/html": [
       "<div>\n",
       "<style scoped>\n",
       "    .dataframe tbody tr th:only-of-type {\n",
       "        vertical-align: middle;\n",
       "    }\n",
       "\n",
       "    .dataframe tbody tr th {\n",
       "        vertical-align: top;\n",
       "    }\n",
       "\n",
       "    .dataframe thead th {\n",
       "        text-align: right;\n",
       "    }\n",
       "</style>\n",
       "<table border=\"1\" class=\"dataframe\">\n",
       "  <thead>\n",
       "    <tr style=\"text-align: right;\">\n",
       "      <th></th>\n",
       "      <th>name</th>\n",
       "      <th>year</th>\n",
       "    </tr>\n",
       "    <tr>\n",
       "      <th>city</th>\n",
       "      <th></th>\n",
       "      <th></th>\n",
       "    </tr>\n",
       "  </thead>\n",
       "  <tbody>\n",
       "    <tr>\n",
       "      <td>北京</td>\n",
       "      <td>张三</td>\n",
       "      <td>2001</td>\n",
       "    </tr>\n",
       "    <tr>\n",
       "      <td>上海</td>\n",
       "      <td>李四</td>\n",
       "      <td>2001</td>\n",
       "    </tr>\n",
       "    <tr>\n",
       "      <td>广州</td>\n",
       "      <td>王五</td>\n",
       "      <td>2003</td>\n",
       "    </tr>\n",
       "    <tr>\n",
       "      <td>北京</td>\n",
       "      <td>小明</td>\n",
       "      <td>2002</td>\n",
       "    </tr>\n",
       "  </tbody>\n",
       "</table>\n",
       "</div>"
      ],
      "text/plain": [
       "     name  year\n",
       "city           \n",
       "北京     张三  2001\n",
       "上海     李四  2001\n",
       "广州     王五  2003\n",
       "北京     小明  2002"
      ]
     },
     "metadata": {},
     "output_type": "display_data"
    },
    {
     "data": {
      "text/html": [
       "<div>\n",
       "<style scoped>\n",
       "    .dataframe tbody tr th:only-of-type {\n",
       "        vertical-align: middle;\n",
       "    }\n",
       "\n",
       "    .dataframe tbody tr th {\n",
       "        vertical-align: top;\n",
       "    }\n",
       "\n",
       "    .dataframe thead th {\n",
       "        text-align: right;\n",
       "    }\n",
       "</style>\n",
       "<table border=\"1\" class=\"dataframe\">\n",
       "  <thead>\n",
       "    <tr style=\"text-align: right;\">\n",
       "      <th></th>\n",
       "      <th>name</th>\n",
       "      <th>year</th>\n",
       "    </tr>\n",
       "    <tr>\n",
       "      <th>city</th>\n",
       "      <th></th>\n",
       "      <th></th>\n",
       "    </tr>\n",
       "  </thead>\n",
       "  <tbody>\n",
       "    <tr>\n",
       "      <td>上海</td>\n",
       "      <td>李四</td>\n",
       "      <td>2001</td>\n",
       "    </tr>\n",
       "    <tr>\n",
       "      <td>广州</td>\n",
       "      <td>王五</td>\n",
       "      <td>2003</td>\n",
       "    </tr>\n",
       "  </tbody>\n",
       "</table>\n",
       "</div>"
      ],
      "text/plain": [
       "     name  year\n",
       "city           \n",
       "上海     李四  2001\n",
       "广州     王五  2003"
      ]
     },
     "metadata": {},
     "output_type": "display_data"
    }
   ],
   "source": [
    "df3.drop('sex',axis = 1,inplace = True)\n",
    "display(df3)\n",
    "display(df3.drop('北京'))\n"
   ]
  },
  {
   "cell_type": "markdown",
   "metadata": {},
   "source": [
    "此外，还可以使用replace进行数据的替换，用法如下：\n",
    "\n",
    "DataFrame.replace(to_replace=None,value=None,inplace=False,limit=None,regex=False,method='pad')\n",
    "\n",
    "其中主要参数to_replace表示被替换的值，value表示替换后的值。同时替换多个值时使用字典数据。\n",
    "\n",
    "如DataFrame.replace({'B':'E','C':'F'})表示将表中的B替换为E，C替换为F。"
   ]
  },
  {
   "cell_type": "markdown",
   "metadata": {},
   "source": [
    "修改列名"
   ]
  },
  {
   "cell_type": "markdown",
   "metadata": {},
   "source": [
    "Pandas通过DataFrame.rename()函数，传入需要修改列名的字典形式来修改列名。\n",
    "\n",
    "df5.rename(columns={'no':'number'}, inplace=True)\n",
    "\n",
    "display(df5)"
   ]
  },
  {
   "cell_type": "markdown",
   "metadata": {},
   "source": [
    "【例2-64】DataFrame类型的数据相加。"
   ]
  },
  {
   "cell_type": "code",
   "execution_count": 64,
   "metadata": {},
   "outputs": [
    {
     "name": "stdout",
     "output_type": "stream",
     "text": [
      "df1:\n",
      "    a  b  e\n",
      "A  0  1  2\n",
      "C  3  4  5\n",
      "df2:\n",
      "    a  b\n",
      "A  0  1\n",
      "D  2  3\n",
      "df1+df2:\n",
      "      a    b   e\n",
      "A  0.0  2.0 NaN\n",
      "C  NaN  NaN NaN\n",
      "D  NaN  NaN NaN\n"
     ]
    }
   ],
   "source": [
    "a = np.arange(6).reshape(2,3)\n",
    "b = np.arange(4).reshape(2,2)\n",
    "df1 = pd.DataFrame(a,columns = ['a','b','e'],index = ['A','C'])\n",
    "print('df1:\\n',df1)\n",
    "df2 = pd.DataFrame(b,columns = ['a','b'],index = ['A','D'])\n",
    "print('df2:\\n',df2)\n",
    "print('df1+df2:\\n',df1+df2)\n"
   ]
  },
  {
   "cell_type": "markdown",
   "metadata": {},
   "source": [
    "函数应用和映射:在数据分析时，经常会对数据进行较复杂的运算，此时需要定义函数。\n",
    "    \n",
    "定义好的函数可以应用到pandas数据中，其中有三种方法：\n",
    "\n",
    "map函数，将函数套用到Series的每个元素中；\n",
    "\n",
    "apply函数，将函数套用到DataFrame的行与列上，行与列通过axis参数设置；\n",
    "\n",
    "applymap函数，将函数套用到DataFrame的每个元素上。\n"
   ]
  },
  {
   "cell_type": "markdown",
   "metadata": {},
   "source": [
    "【例2-65】将水果价格表中的“元”去掉。"
   ]
  },
  {
   "cell_type": "code",
   "execution_count": 65,
   "metadata": {},
   "outputs": [
    {
     "name": "stdout",
     "output_type": "stream",
     "text": [
      "    fruit price\n",
      "0   apple   30元\n",
      "1   grape   43元\n",
      "2  banana   28元\n",
      "修改后的数据表:\n",
      "     fruit price\n",
      "0   apple    30\n",
      "1   grape    43\n",
      "2  banana    28\n"
     ]
    }
   ],
   "source": [
    "data = {'fruit':['apple','grape','banana'],'price':['30元','43元','28元']}\n",
    "df1 = pd.DataFrame(data)\n",
    "print(df1)\n",
    "def f(x):\n",
    "    return x.split('元')[0]\n",
    "df1['price'] = df1['price'].map(f)\n",
    "print('修改后的数据表:\\n',df1)\n"
   ]
  },
  {
   "cell_type": "markdown",
   "metadata": {},
   "source": [
    "【例2-66】apply函数的使用方法。"
   ]
  },
  {
   "cell_type": "code",
   "execution_count": 66,
   "metadata": {},
   "outputs": [
    {
     "name": "stdout",
     "output_type": "stream",
     "text": [
      "            a         b         c\n",
      "app -0.622211 -0.675321 -0.818024\n",
      "win  0.361793  0.023809  0.459464\n",
      "mac -1.899157 -0.328258  0.118220\n"
     ]
    },
    {
     "data": {
      "text/plain": [
       "a   -0.719859\n",
       "b   -0.326590\n",
       "c   -0.080114\n",
       "dtype: float64"
      ]
     },
     "execution_count": 66,
     "metadata": {},
     "output_type": "execute_result"
    }
   ],
   "source": [
    "df2 = pd.DataFrame(np.random.randn(3,3),columns = ['a','b','c'],\n",
    "index = ['app','win','mac'])\n",
    "print(df2)\n",
    "df2.apply(np.mean)\n"
   ]
  },
  {
   "cell_type": "markdown",
   "metadata": {},
   "source": [
    "【例2-67】applymap函数的用法。"
   ]
  },
  {
   "cell_type": "code",
   "execution_count": 67,
   "metadata": {},
   "outputs": [
    {
     "name": "stdout",
     "output_type": "stream",
     "text": [
      "            a         b         c\n",
      "app -0.622211 -0.675321 -0.818024\n",
      "win  0.361793  0.023809  0.459464\n",
      "mac -1.899157 -0.328258  0.118220\n"
     ]
    },
    {
     "data": {
      "text/html": [
       "<div>\n",
       "<style scoped>\n",
       "    .dataframe tbody tr th:only-of-type {\n",
       "        vertical-align: middle;\n",
       "    }\n",
       "\n",
       "    .dataframe tbody tr th {\n",
       "        vertical-align: top;\n",
       "    }\n",
       "\n",
       "    .dataframe thead th {\n",
       "        text-align: right;\n",
       "    }\n",
       "</style>\n",
       "<table border=\"1\" class=\"dataframe\">\n",
       "  <thead>\n",
       "    <tr style=\"text-align: right;\">\n",
       "      <th></th>\n",
       "      <th>a</th>\n",
       "      <th>b</th>\n",
       "      <th>c</th>\n",
       "    </tr>\n",
       "  </thead>\n",
       "  <tbody>\n",
       "    <tr>\n",
       "      <td>app</td>\n",
       "      <td>-0.622</td>\n",
       "      <td>-0.675</td>\n",
       "      <td>-0.818</td>\n",
       "    </tr>\n",
       "    <tr>\n",
       "      <td>win</td>\n",
       "      <td>0.362</td>\n",
       "      <td>0.024</td>\n",
       "      <td>0.459</td>\n",
       "    </tr>\n",
       "    <tr>\n",
       "      <td>mac</td>\n",
       "      <td>-1.899</td>\n",
       "      <td>-0.328</td>\n",
       "      <td>0.118</td>\n",
       "    </tr>\n",
       "  </tbody>\n",
       "</table>\n",
       "</div>"
      ],
      "text/plain": [
       "          a       b       c\n",
       "app  -0.622  -0.675  -0.818\n",
       "win   0.362   0.024   0.459\n",
       "mac  -1.899  -0.328   0.118"
      ]
     },
     "execution_count": 67,
     "metadata": {},
     "output_type": "execute_result"
    }
   ],
   "source": [
    "print(df2)\n",
    "df2.applymap(lambda x:'%.3f'%x)\n"
   ]
  },
  {
   "cell_type": "markdown",
   "metadata": {},
   "source": [
    "排序"
   ]
  },
  {
   "cell_type": "markdown",
   "metadata": {},
   "source": [
    "【例2-68】Series的排序。"
   ]
  },
  {
   "cell_type": "code",
   "execution_count": 68,
   "metadata": {},
   "outputs": [
    {
     "name": "stdout",
     "output_type": "stream",
     "text": [
      "c    1\n",
      "b   -2\n",
      "a    4\n",
      "d   -4\n",
      "dtype: int64\n",
      "排序后的Series:\n",
      " a    4\n",
      "b   -2\n",
      "c    1\n",
      "d   -4\n",
      "dtype: int64\n",
      "值排序后的Series:\n",
      " d   -4\n",
      "b   -2\n",
      "c    1\n",
      "a    4\n",
      "dtype: int64\n"
     ]
    }
   ],
   "source": [
    "wy = pd.Series([1,-2,4,-4],index = ['c','b','a','d'])\n",
    "print(wy)\n",
    "print('排序后的Series:\\n',wy.sort_index())\n",
    "print('值排序后的Series:\\n',wy.sort_values())\n"
   ]
  },
  {
   "cell_type": "markdown",
   "metadata": {},
   "source": [
    "【例2-69】DataFrame排序。"
   ]
  },
  {
   "cell_type": "code",
   "execution_count": 69,
   "metadata": {},
   "outputs": [
    {
     "name": "stdout",
     "output_type": "stream",
     "text": [
      "            a         b         c\n",
      "app -0.622211 -0.675321 -0.818024\n",
      "win  0.361793  0.023809  0.459464\n",
      "mac -1.899157 -0.328258  0.118220\n"
     ]
    },
    {
     "data": {
      "text/html": [
       "<div>\n",
       "<style scoped>\n",
       "    .dataframe tbody tr th:only-of-type {\n",
       "        vertical-align: middle;\n",
       "    }\n",
       "\n",
       "    .dataframe tbody tr th {\n",
       "        vertical-align: top;\n",
       "    }\n",
       "\n",
       "    .dataframe thead th {\n",
       "        text-align: right;\n",
       "    }\n",
       "</style>\n",
       "<table border=\"1\" class=\"dataframe\">\n",
       "  <thead>\n",
       "    <tr style=\"text-align: right;\">\n",
       "      <th></th>\n",
       "      <th>a</th>\n",
       "      <th>b</th>\n",
       "      <th>c</th>\n",
       "    </tr>\n",
       "  </thead>\n",
       "  <tbody>\n",
       "    <tr>\n",
       "      <td>mac</td>\n",
       "      <td>-1.899157</td>\n",
       "      <td>-0.328258</td>\n",
       "      <td>0.118220</td>\n",
       "    </tr>\n",
       "    <tr>\n",
       "      <td>app</td>\n",
       "      <td>-0.622211</td>\n",
       "      <td>-0.675321</td>\n",
       "      <td>-0.818024</td>\n",
       "    </tr>\n",
       "    <tr>\n",
       "      <td>win</td>\n",
       "      <td>0.361793</td>\n",
       "      <td>0.023809</td>\n",
       "      <td>0.459464</td>\n",
       "    </tr>\n",
       "  </tbody>\n",
       "</table>\n",
       "</div>"
      ],
      "text/plain": [
       "            a         b         c\n",
       "mac -1.899157 -0.328258  0.118220\n",
       "app -0.622211 -0.675321 -0.818024\n",
       "win  0.361793  0.023809  0.459464"
      ]
     },
     "execution_count": 69,
     "metadata": {},
     "output_type": "execute_result"
    }
   ],
   "source": [
    "print(df2)\n",
    "df2.sort_values(by = 'a')\n"
   ]
  },
  {
   "cell_type": "markdown",
   "metadata": {},
   "source": [
    "汇总与统计"
   ]
  },
  {
   "cell_type": "markdown",
   "metadata": {},
   "source": [
    "【例2-70】DataFrame中的汇总。"
   ]
  },
  {
   "cell_type": "code",
   "execution_count": 70,
   "metadata": {},
   "outputs": [
    {
     "name": "stdout",
     "output_type": "stream",
     "text": [
      "按列汇总:\n",
      " a   -2.159576\n",
      "b   -0.979770\n",
      "c   -0.240341\n",
      "dtype: float64\n",
      "按行汇总:\n",
      " app   -2.115556\n",
      "win    0.845065\n",
      "mac   -2.109195\n",
      "dtype: float64\n"
     ]
    }
   ],
   "source": [
    "print('按列汇总:\\n',df2.sum())\n",
    "print('按行汇总:\\n',df2.sum(axis = 1))\n"
   ]
  },
  {
   "cell_type": "markdown",
   "metadata": {},
   "source": [
    "【例2-71】describe示例。"
   ]
  },
  {
   "cell_type": "code",
   "execution_count": 71,
   "metadata": {},
   "outputs": [
    {
     "data": {
      "text/html": [
       "<div>\n",
       "<style scoped>\n",
       "    .dataframe tbody tr th:only-of-type {\n",
       "        vertical-align: middle;\n",
       "    }\n",
       "\n",
       "    .dataframe tbody tr th {\n",
       "        vertical-align: top;\n",
       "    }\n",
       "\n",
       "    .dataframe thead th {\n",
       "        text-align: right;\n",
       "    }\n",
       "</style>\n",
       "<table border=\"1\" class=\"dataframe\">\n",
       "  <thead>\n",
       "    <tr style=\"text-align: right;\">\n",
       "      <th></th>\n",
       "      <th>a</th>\n",
       "      <th>b</th>\n",
       "      <th>c</th>\n",
       "    </tr>\n",
       "  </thead>\n",
       "  <tbody>\n",
       "    <tr>\n",
       "      <td>count</td>\n",
       "      <td>3.000000</td>\n",
       "      <td>3.000000</td>\n",
       "      <td>3.000000</td>\n",
       "    </tr>\n",
       "    <tr>\n",
       "      <td>mean</td>\n",
       "      <td>-0.719859</td>\n",
       "      <td>-0.326590</td>\n",
       "      <td>-0.080114</td>\n",
       "    </tr>\n",
       "    <tr>\n",
       "      <td>std</td>\n",
       "      <td>1.133633</td>\n",
       "      <td>0.349568</td>\n",
       "      <td>0.661434</td>\n",
       "    </tr>\n",
       "    <tr>\n",
       "      <td>min</td>\n",
       "      <td>-1.899157</td>\n",
       "      <td>-0.675321</td>\n",
       "      <td>-0.818024</td>\n",
       "    </tr>\n",
       "    <tr>\n",
       "      <td>25%</td>\n",
       "      <td>-1.260684</td>\n",
       "      <td>-0.501789</td>\n",
       "      <td>-0.349902</td>\n",
       "    </tr>\n",
       "    <tr>\n",
       "      <td>50%</td>\n",
       "      <td>-0.622211</td>\n",
       "      <td>-0.328258</td>\n",
       "      <td>0.118220</td>\n",
       "    </tr>\n",
       "    <tr>\n",
       "      <td>75%</td>\n",
       "      <td>-0.130209</td>\n",
       "      <td>-0.152224</td>\n",
       "      <td>0.288842</td>\n",
       "    </tr>\n",
       "    <tr>\n",
       "      <td>max</td>\n",
       "      <td>0.361793</td>\n",
       "      <td>0.023809</td>\n",
       "      <td>0.459464</td>\n",
       "    </tr>\n",
       "  </tbody>\n",
       "</table>\n",
       "</div>"
      ],
      "text/plain": [
       "              a         b         c\n",
       "count  3.000000  3.000000  3.000000\n",
       "mean  -0.719859 -0.326590 -0.080114\n",
       "std    1.133633  0.349568  0.661434\n",
       "min   -1.899157 -0.675321 -0.818024\n",
       "25%   -1.260684 -0.501789 -0.349902\n",
       "50%   -0.622211 -0.328258  0.118220\n",
       "75%   -0.130209 -0.152224  0.288842\n",
       "max    0.361793  0.023809  0.459464"
      ]
     },
     "execution_count": 71,
     "metadata": {},
     "output_type": "execute_result"
    }
   ],
   "source": [
    "df2.describe()"
   ]
  },
  {
   "cell_type": "markdown",
   "metadata": {},
   "source": [
    "【例2-72】数据的频数统计。"
   ]
  },
  {
   "cell_type": "code",
   "execution_count": 72,
   "metadata": {},
   "outputs": [
    {
     "name": "stdout",
     "output_type": "stream",
     "text": [
      "['a' 'b' 'c' 'd']\n",
      "a    2\n",
      "c    2\n",
      "b    1\n",
      "d    1\n",
      "dtype: int64\n"
     ]
    }
   ],
   "source": [
    "obj = pd.Series(['a','b','c','a','d','c'])\n",
    "print(obj.unique())\n",
    "print(obj.value_counts())\n"
   ]
  },
  {
   "cell_type": "markdown",
   "metadata": {},
   "source": [
    "数据分组"
   ]
  },
  {
   "cell_type": "markdown",
   "metadata": {},
   "source": [
    "【例2-73】groupby基本用法举例。"
   ]
  },
  {
   "cell_type": "code",
   "execution_count": 73,
   "metadata": {},
   "outputs": [
    {
     "name": "stdout",
     "output_type": "stream",
     "text": [
      "key1\n",
      "a    3\n",
      "b    2\n",
      "Name: data1, dtype: int64\n",
      "key1\n",
      "a   -0.408674\n",
      "b    1.500244\n",
      "Name: data1, dtype: float64\n"
     ]
    }
   ],
   "source": [
    "df = pd.DataFrame({'key1' : ['a', 'a', 'b', 'b', 'a'],\n",
    "    'key2' : ['yes', 'no', 'yes', 'yes', 'no'],\n",
    "    'data1' : np.random.randn(5),\n",
    "    'data2' : np.random.randn(5)})\n",
    "grouped = df['data1'].groupby(df['key1'])\n",
    "print(grouped.size())\n",
    "print(grouped.mean())\n"
   ]
  },
  {
   "cell_type": "markdown",
   "metadata": {},
   "source": [
    "【例2-74】列索引名称作为分组键。"
   ]
  },
  {
   "cell_type": "code",
   "execution_count": 74,
   "metadata": {},
   "outputs": [
    {
     "data": {
      "text/html": [
       "<div>\n",
       "<style scoped>\n",
       "    .dataframe tbody tr th:only-of-type {\n",
       "        vertical-align: middle;\n",
       "    }\n",
       "\n",
       "    .dataframe tbody tr th {\n",
       "        vertical-align: top;\n",
       "    }\n",
       "\n",
       "    .dataframe thead th {\n",
       "        text-align: right;\n",
       "    }\n",
       "</style>\n",
       "<table border=\"1\" class=\"dataframe\">\n",
       "  <thead>\n",
       "    <tr style=\"text-align: right;\">\n",
       "      <th></th>\n",
       "      <th>data1</th>\n",
       "      <th>data2</th>\n",
       "    </tr>\n",
       "    <tr>\n",
       "      <th>key2</th>\n",
       "      <th></th>\n",
       "      <th></th>\n",
       "    </tr>\n",
       "  </thead>\n",
       "  <tbody>\n",
       "    <tr>\n",
       "      <td>no</td>\n",
       "      <td>-0.941196</td>\n",
       "      <td>1.122573</td>\n",
       "    </tr>\n",
       "    <tr>\n",
       "      <td>yes</td>\n",
       "      <td>1.218953</td>\n",
       "      <td>0.407617</td>\n",
       "    </tr>\n",
       "  </tbody>\n",
       "</table>\n",
       "</div>"
      ],
      "text/plain": [
       "         data1     data2\n",
       "key2                    \n",
       "no   -0.941196  1.122573\n",
       "yes   1.218953  0.407617"
      ]
     },
     "execution_count": 74,
     "metadata": {},
     "output_type": "execute_result"
    }
   ],
   "source": [
    "groupk1 = df.groupby('key2').mean()\n",
    "groupk1\n"
   ]
  },
  {
   "cell_type": "markdown",
   "metadata": {},
   "source": [
    "【例2-75】按列表或元组分组。"
   ]
  },
  {
   "cell_type": "code",
   "execution_count": 75,
   "metadata": {},
   "outputs": [
    {
     "data": {
      "text/html": [
       "<div>\n",
       "<style scoped>\n",
       "    .dataframe tbody tr th:only-of-type {\n",
       "        vertical-align: middle;\n",
       "    }\n",
       "\n",
       "    .dataframe tbody tr th {\n",
       "        vertical-align: top;\n",
       "    }\n",
       "\n",
       "    .dataframe thead th {\n",
       "        text-align: right;\n",
       "    }\n",
       "</style>\n",
       "<table border=\"1\" class=\"dataframe\">\n",
       "  <thead>\n",
       "    <tr style=\"text-align: right;\">\n",
       "      <th></th>\n",
       "      <th>data1</th>\n",
       "      <th>data2</th>\n",
       "    </tr>\n",
       "  </thead>\n",
       "  <tbody>\n",
       "    <tr>\n",
       "      <td>w</td>\n",
       "      <td>1.195372</td>\n",
       "      <td>2.018739</td>\n",
       "    </tr>\n",
       "    <tr>\n",
       "      <td>y</td>\n",
       "      <td>0.579095</td>\n",
       "      <td>1.449259</td>\n",
       "    </tr>\n",
       "  </tbody>\n",
       "</table>\n",
       "</div>"
      ],
      "text/plain": [
       "      data1     data2\n",
       "w  1.195372  2.018739\n",
       "y  0.579095  1.449259"
      ]
     },
     "execution_count": 75,
     "metadata": {},
     "output_type": "execute_result"
    }
   ],
   "source": [
    "wlist = ['w','w','y','w','y']\n",
    "df.groupby(wlist).sum()\n"
   ]
  },
  {
   "cell_type": "markdown",
   "metadata": {},
   "source": [
    "【例2-76】通过字典作为分组键，分组时各字母不区分大小写。"
   ]
  },
  {
   "cell_type": "code",
   "execution_count": 76,
   "metadata": {},
   "outputs": [
    {
     "name": "stdout",
     "output_type": "stream",
     "text": [
      "数据为:\n",
      "           0         1         2         3         4\n",
      "a -0.099872 -0.071955 -0.453054 -1.994120 -0.490964\n",
      "b -0.970238 -0.708887  0.099690  0.923834  1.429240\n",
      "c  0.573561 -0.156436 -0.668523  1.008061  0.229761\n",
      "A -1.250623  1.524598  0.667361  0.045728  0.215424\n",
      "B -0.482270  0.041623 -0.463121  1.423784  0.329185\n",
      "c  0.253066 -1.524082 -0.016557  0.907149 -0.341078\n",
      "分组汇总后的结果为:\n",
      "               0         1         2         3         4\n",
      "one   -1.350495  1.452643  0.214307 -1.948392 -0.275541\n",
      "three  0.826627 -1.680518 -0.685080  1.915211 -0.111317\n",
      "two   -1.452508 -0.667264 -0.363431  2.347618  1.758425\n"
     ]
    }
   ],
   "source": [
    "df=pd.DataFrame(np.random.normal(size=(6,5)),index=\n",
    "['a','b','c','A','B','c'])\n",
    "print(\"数据为:\\n\",df)\n",
    "wdict={'a':'one','A':'one','b':'two','B':'two','c':'three'}\n",
    "print(\"分组汇总后的结果为:\\n\",df.groupby(wdict).sum())\n"
   ]
  },
  {
   "cell_type": "markdown",
   "metadata": {},
   "source": [
    "【例2-77】通过DataFrame最后一列的数值进行正负分组。"
   ]
  },
  {
   "cell_type": "code",
   "execution_count": 77,
   "metadata": {},
   "outputs": [
    {
     "name": "stdout",
     "output_type": "stream",
     "text": [
      "          0         1         2         3\n",
      "0 -0.024003  1.447666  0.664773 -1.242877\n",
      "1 -0.529465 -0.343070 -1.095983 -0.461206\n",
      "2 -0.855256  1.060128  1.948133 -0.017671\n",
      "3  0.591039  0.256466 -0.858102  1.354794\n",
      "3\n",
      "a    1.354794\n",
      "b   -1.721754\n",
      "Name: 3, dtype: float64\n"
     ]
    }
   ],
   "source": [
    "def judge(x):\n",
    "    if x>=0:\n",
    "        return 'a'\n",
    "    else:\n",
    "        return 'b'\n",
    "df = pd.DataFrame(np.random.randn(4,4))\n",
    "print(df)\n",
    "print(df[3].groupby(df[3].map(judge)).sum())\n"
   ]
  },
  {
   "cell_type": "markdown",
   "metadata": {},
   "source": [
    "【例2-78】使用agg求出当前数据对应的统计量。"
   ]
  },
  {
   "attachments": {
    "image.png": {
     "image/png": "[encoded data removed]"
    }
   },
   "cell_type": "markdown",
   "metadata": {},
   "source": [
    "![image.png](attachment:image.png)"
   ]
  },
  {
   "attachments": {
    "image.png": {
     "image/png": "[encoded data removed]"
    }
   },
   "cell_type": "markdown",
   "metadata": {},
   "source": [
    "display(data[['淋巴细胞计数','白细胞计数']].agg([np.sum,np.mean]))\n",
    "\n",
    "data.agg({'淋巴细胞计数':np.mean,'血小板计数':np.std})\n",
    "\n",
    "display(data.agg({'淋巴细胞计数':np.mean,'血小板计数':[np.mean,np.std]}))\n",
    "\n",
    "print(data.groupby('性别')['血小板计数'].agg(np.mean))\n",
    "\n",
    "![image.png](attachment:image.png)\n"
   ]
  },
  {
   "cell_type": "markdown",
   "metadata": {},
   "source": [
    "【例2-79】as_index参数的用法。"
   ]
  },
  {
   "attachments": {
    "image.png": {
     "image/png": "[encoded data removed]"
    }
   },
   "cell_type": "markdown",
   "metadata": {},
   "source": [
    "data.groupby(['性别','是否吸烟'],as_index = False)['血小板计数'].agg(np.mean)\n",
    "\n",
    "![image.png](attachment:image.png)"
   ]
  },
  {
   "cell_type": "markdown",
   "metadata": {},
   "source": [
    "【例2-80】transform方法。 "
   ]
  },
  {
   "cell_type": "markdown",
   "metadata": {},
   "source": [
    "data.groupby(['性别','是否吸烟'])['血小板计数'].\n",
    "transform('mean').sample(5)\n"
   ]
  },
  {
   "attachments": {
    "image.png": {
     "image/png": "[encoded data removed]"
    }
   },
   "cell_type": "markdown",
   "metadata": {},
   "source": [
    "![image.png](attachment:image.png)\n"
   ]
  },
  {
   "cell_type": "markdown",
   "metadata": {},
   "source": [
    "【例2-81】数据分组后应用apply统计。"
   ]
  },
  {
   "cell_type": "markdown",
   "metadata": {},
   "source": [
    "data.groupby(['性别','是否吸烟'])['血小板计数'].apply(\n",
    "np.mean)\n"
   ]
  },
  {
   "attachments": {
    "image.png": {
     "image/png": "[encoded data removed]"
    }
   },
   "cell_type": "markdown",
   "metadata": {},
   "source": [
    "![image.png](attachment:image.png)"
   ]
  },
  {
   "cell_type": "markdown",
   "metadata": {},
   "source": [
    "Pandas数据读取与存储"
   ]
  },
  {
   "cell_type": "markdown",
   "metadata": {},
   "source": [
    "Pandas读取csv文件的格式：\n",
    "read_csv(filepath_or_buffer, sep=',', delimiter=None, header='infer', names=None, index_col=None, usecols=None, squeeze=False, ...)\n"
   ]
  },
  {
   "cell_type": "markdown",
   "metadata": {},
   "source": [
    "【例2-82】Pandas读取csv的示例："
   ]
  },
  {
   "cell_type": "markdown",
   "metadata": {},
   "source": [
    "df1 = pd. read_csv（‘文件路径文件名’）\n",
    "#读取CSV文件到DataFrame中\n",
    "df2 = pd. read_table（‘文件路径文件名’, sep = ‘,’）\n",
    "#使用read_table，并指定分隔符\n",
    "df3 = pd. read_csv（‘文件路径文件名’，names = [‘a’,’b’,---]）\n",
    "#文件不包含表头行，允许自动分配默认列名，也可以指定列名\n"
   ]
  },
  {
   "cell_type": "markdown",
   "metadata": {},
   "source": [
    "（2）读取excel文件\n",
    "Pandas读取excel文件的格式：\n",
    "pandas.read_excel（io，sheet_name = 0，header = 0，names = None，index_col = None，usecols = None，squeeze = False,dtype = None, ...）\n",
    "\n",
    "【例2-83】pandas读取excel文件示例\n",
    "\n",
    "xlsx = pd.excelFile(‘example/ex1.xlsx’)\n",
    "\n",
    "pd.read_excel(xlsx, ‘Sheet1’)\n",
    "\n",
    "#也可以直接利用： \n",
    "\n",
    "frame =  pd.read_excel(‘example/ex1.xlsx’, ‘Sheet1’)\n"
   ]
  },
  {
   "cell_type": "markdown",
   "metadata": {},
   "source": [
    "（3）读取mysql数据\n",
    "Pandas读取mysql文件的格式：\n",
    "\n",
    "pandas.read_sql(sql, con, index_col=None, coerce_float=True, params=None, parse_dates=None, columns=None, chunksize=None)\n",
    "\n",
    "【例2-84】读取mysql数据示例\n",
    "\n",
    "import pymysql\n",
    "con =pymysql.connect(\n",
    "host=‘localhost’,user=‘root’,password=‘root’,database=‘test’,port=3306,charset=‘utf8’)\n",
    "\n",
    "sql_select = ‘select * from a’\n",
    "\n",
    "df = pd.read_sql(sql_select, con)\n"
   ]
  },
  {
   "cell_type": "markdown",
   "metadata": {},
   "source": [
    "（4）读取json数据\n",
    "\n",
    "Json是一种常用的数据交换格式，在前后端的交互中经常用到，也会在存储的时候选择这种格式。\n",
    "\n",
    "Pandas读取Json数据的格式：\n",
    "\n",
    "pandas.read_json(path_or_buf=None,orient=None,type=’frame’,lines=False, ...)\n"
   ]
  },
  {
   "cell_type": "markdown",
   "metadata": {},
   "source": [
    "文件存储"
   ]
  },
  {
   "attachments": {
    "image.png": {
     "image/png": "[encoded data removed]"
    }
   },
   "cell_type": "markdown",
   "metadata": {},
   "source": [
    "![image.png](attachment:image.png)"
   ]
  },
  {
   "cell_type": "markdown",
   "metadata": {},
   "source": [
    " Matplotlib图表绘制基础"
   ]
  },
  {
   "cell_type": "markdown",
   "metadata": {},
   "source": [
    "在Jupyter notebook中进行交互式绘图，需要执行一下语句：\n",
    "\n",
    "%matplotlib notebook\n",
    "\n",
    "使用matplotlib时，使用的导入惯例为：\n",
    "\n",
    "import matplotlib.pyplot as plt \n"
   ]
  },
  {
   "cell_type": "markdown",
   "metadata": {},
   "source": [
    "【例2-85】创建子图及绘图。"
   ]
  },
  {
   "cell_type": "code",
   "execution_count": 90,
   "metadata": {},
   "outputs": [
    {
     "data": {
      "text/plain": [
       "[<matplotlib.lines.Line2D at 0x1704f99eac8>]"
      ]
     },
     "execution_count": 90,
     "metadata": {},
     "output_type": "execute_result"
    },
    {
     "data": {
      "image/png": "[encoded data removed]",
      "text/plain": [
       "<Figure size 432x288 with 2 Axes>"
      ]
     },
     "metadata": {
      "needs_background": "light"
     },
     "output_type": "display_data"
    }
   ],
   "source": [
    "import matplotlib.pyplot as plt\n",
    "fig = plt.figure()\n",
    "#不能使用空白的figure绘图，需要创建子图\n",
    "ax1 = fig.add_subplot(1,2,1)\n",
    "ax2 = fig.add_subplot(1,2,2)\n",
    "ax1.plot([1.5,2,3.5,-1,1.6])\n"
   ]
  },
  {
   "cell_type": "markdown",
   "metadata": {},
   "source": [
    "【例2-86】创建子图调整子图周围的间距。"
   ]
  },
  {
   "cell_type": "code",
   "execution_count": 79,
   "metadata": {},
   "outputs": [
    {
     "data": {
      "image/png": "[encoded data removed]",
      "text/plain": [
       "<Figure size 432x288 with 4 Axes>"
      ]
     },
     "metadata": {
      "needs_background": "light"
     },
     "output_type": "display_data"
    }
   ],
   "source": [
    "fig,axes = plt.subplots(2,2,sharex = True,sharey = True)\n",
    "for i in range(2):\n",
    "     for j in range(2):\n",
    "      axes[i,j].hist(np.random.randn(500),bins =50,color='k',alpha= 0.5)\n",
    "plt.subplots_adjust(wspace=0,hspace=0)\n"
   ]
  },
  {
   "attachments": {
    "image.png": {
     "image/png": "[encoded data removed]"
    }
   },
   "cell_type": "markdown",
   "metadata": {},
   "source": [
    "![image.png](attachment:image.png)"
   ]
  },
  {
   "cell_type": "markdown",
   "metadata": {},
   "source": [
    "【例2-87】包含子图绘制的基础语法。"
   ]
  },
  {
   "cell_type": "code",
   "execution_count": 80,
   "metadata": {},
   "outputs": [
    {
     "data": {
      "image/png": "[encoded data removed]",
      "text/plain": [
       "<Figure size 810x630 with 2 Axes>"
      ]
     },
     "metadata": {
      "needs_background": "light"
     },
     "output_type": "display_data"
    }
   ],
   "source": [
    "data = np.arange(0,np.pi*2,0.01)\n",
    "fig1 = plt.figure(figsize = (9,7),dpi = 90)  #确定画布大小\n",
    "ax1 = fig1.add_subplot(1,2,1) #绘制第1幅子图\n",
    "plt.title('lines example')\n",
    "plt.xlabel('X')\n",
    "plt.ylabel('Y')\n",
    "plt.xlim(0,1)\n",
    "plt.ylim(0,1)\n",
    "plt.xticks([0,0.2,0.4,0.6,0.8,1])\n",
    "plt.yticks([0,0.2,0.4,0.6,0.8,1])\n",
    "plt.plot(data,data**2)\n",
    "plt.plot(data,data**3)\n",
    "plt.legend(['y = x^2','y = x^3'])\n",
    "ax1 = fig1.add_subplot(1,2,2) #绘制第2幅子图\n",
    "plt.title('sin/cos')\n",
    "plt.xlabel('X')\n",
    "plt.ylabel('Y')\n",
    "plt.xlim(0,np.pi*2)\n",
    "plt.ylim(-1,1)\n",
    "plt.xticks([0,np.pi/2,np.pi,np.pi*3/2,np.pi*2])\n",
    "plt.yticks([-1,-0.5,0,0.5,1])\n",
    "plt.plot(data,np.sin(data))\n",
    "plt.plot(data,np.cos(data))\n",
    "plt.legend(['sin','cos'])\n",
    "plt.show()\n"
   ]
  },
  {
   "attachments": {
    "image.png": {
     "image/png": "[encoded data removed]"
    }
   },
   "cell_type": "markdown",
   "metadata": {},
   "source": [
    "绘图完成后，需要显示或保存。图形显示和保存的函数只有两个，并且参数不多，见表2-17。\n",
    "\n",
    "表2-17 绘图显示和保存的函数\n",
    "\n",
    "![image.png](attachment:image.png)"
   ]
  },
  {
   "cell_type": "markdown",
   "metadata": {},
   "source": [
    "【例2-88】查看用户的配置文件目录。"
   ]
  },
  {
   "cell_type": "markdown",
   "metadata": {},
   "source": [
    "import matplotlib as plt \n",
    "print(plt.matplotlib_fname())  \n",
    "#显示当前用户的配置文件目录\n"
   ]
  },
  {
   "cell_type": "markdown",
   "metadata": {},
   "source": [
    "rc参数设置\n",
    "使用Python编程进行配置修改rc参数，rc参数名称及其取值见表2-18至2-20。\n"
   ]
  },
  {
   "attachments": {
    "image.png": {
     "image/png": "[encoded data removed]"
    }
   },
   "cell_type": "markdown",
   "metadata": {},
   "source": [
    "![image.png](attachment:image.png)"
   ]
  },
  {
   "cell_type": "markdown",
   "metadata": {},
   "source": [
    "【例2-89】rc参数设置示例。"
   ]
  },
  {
   "cell_type": "code",
   "execution_count": 81,
   "metadata": {},
   "outputs": [
    {
     "data": {
      "text/plain": [
       "<matplotlib.legend.Legend at 0x1704dac6a48>"
      ]
     },
     "execution_count": 81,
     "metadata": {},
     "output_type": "execute_result"
    },
    {
     "data": {
      "image/png": "[encoded data removed]",
      "text/plain": [
       "<Figure size 432x288 with 1 Axes>"
      ]
     },
     "metadata": {
      "needs_background": "light"
     },
     "output_type": "display_data"
    }
   ],
   "source": [
    "import matplotlib.pyplot as plt\n",
    "fig = plt.figure()\n",
    "ax = fig.add_subplot(1,1,1)\n",
    "np.random.seed(719)\n",
    "ax.plot(np.random.randn(30).cumsum(),color = 'k',linestyle = 'dashed',marker = 'o',label = 'one')\n",
    "ax.plot(np.random.randn(30).cumsum(),color = 'k',linestyle = 'dashed',marker = '+',label = 'two')\n",
    "ax.legend(loc = 'best')\n"
   ]
  },
  {
   "cell_type": "markdown",
   "metadata": {},
   "source": [
    "可以用set_xticks设置刻度，用set_xticklabels改变刻度，设置刻度的旋转角度及字体等，如ax.set_xticklabels(['x1','x2','x3','x4','x5'],rotation = 30,fontsize = 'large')。"
   ]
  },
  {
   "cell_type": "markdown",
   "metadata": {},
   "source": [
    "文本注解\n",
    "绘图时有时需要在图表中加文本注解，Python通过text函数在指定的位置（x,y）加入文本注解，也可以利用annotate()完成指向型注释。\n"
   ]
  },
  {
   "cell_type": "markdown",
   "metadata": {},
   "source": [
    "【例2-90】绘制曲线图并标注。"
   ]
  },
  {
   "cell_type": "code",
   "execution_count": 82,
   "metadata": {},
   "outputs": [
    {
     "data": {
      "image/png": "[encoded data removed]",
      "text/plain": [
       "<Figure size 432x288 with 2 Axes>"
      ]
     },
     "metadata": {
      "needs_background": "light"
     },
     "output_type": "display_data"
    }
   ],
   "source": [
    "import matplotlib.pyplot as plt\n",
    "import numpy as np\n",
    "fig=plt.figure()\n",
    "ax1=fig.add_subplot(121)\n",
    "t=np.arange(0.0,5,0.01)\n",
    "s=np.cos(2*np.pi*t)\n",
    "line,=ax1.plot(t,s,lw=2)\n",
    "bbox=dict(boxstyle='round',fc='white')\n",
    "ax1.annotate('local max',xy=(2,1),xytext=(3,1.5),arrowprops=dict\n",
    "(facecolor='black',edgecolor='red',headwidth=7,width=2),bbox=bbox)\n",
    "bbox_prop=dict(fc='white')\n",
    "ax1.set_xlabel('asix-X',bbox=bbox_prop)\n",
    "ax1.set_ylim(-2,2)\n",
    "ax1.text(1,1,'max')\n",
    "ax2=fig.add_subplot(122)\n",
    "ax2.set_ylim(-4,4)\n",
    "ax2.set_xlim(-4,4)\n",
    "bbox=dict(boxstyle='round',ec='red',fc='white')\n",
    "ax2.text(-2,0,'$y=sin(x)$',bbox=bbox)\n",
    "ax2.text(0,-2,'$y=cos(x)$',bbox=dict(boxstyle='square',facecolor='white',ec='black'),rotation=45)\n",
    "ax2.grid(ls=\":\",color='gray',alpha=0.5)\n",
    "#设置水印(带方框的水印)\n",
    "ax2.text(-2,2,'NWNU',fontsize=20,alpha=0.8,color='gray',bbox=dict(fc=\"white\",boxstyle='round',edgecolor='gray',alpha=0.3))\n",
    "plt.show()\n"
   ]
  },
  {
   "cell_type": "markdown",
   "metadata": {},
   "source": [
    "pyplot中的常用绘图"
   ]
  },
  {
   "cell_type": "markdown",
   "metadata": {},
   "source": [
    "1. 折线图\n",
    "折线图（Line Chart）是一种将数据点按照顺序连接起来的图形。可以看作是将散点图按照x轴坐标顺序连接起来的图形。折线图的主要功能是查看因变量y随着自变量x改变的趋势，最适合用于显示随时间（根据常用比例设置）而变化的连续数据。同时还可以看出数量的差异，增长趋势的变化。\n",
    "绘制折线图plot的格式：matplotlib.pyplot.plot(*args, **kwargs) \n"
   ]
  },
  {
   "cell_type": "markdown",
   "metadata": {},
   "source": [
    "【例2-91】折线图绘制。"
   ]
  },
  {
   "cell_type": "code",
   "execution_count": 83,
   "metadata": {},
   "outputs": [
    {
     "data": {
      "image/png": "[encoded data removed]",
      "text/plain": [
       "<Figure size 432x288 with 1 Axes>"
      ]
     },
     "metadata": {
      "needs_background": "light"
     },
     "output_type": "display_data"
    }
   ],
   "source": [
    "x1 = np.arange(0, 30)\n",
    "plt.plot(x1,x1*2,marker='o',color='g')\n",
    "plt.plot(x1,x1*3.5,marker='+',color='b')\n",
    "plt.tick_params(axis='x',labelsize=14,rotation=30)\n",
    "plt.tick_params(axis='y',labelsize=13)\n",
    "plt.show()\n"
   ]
  },
  {
   "attachments": {
    "image.png": {
     "image/png": "[encoded data removed]"
    }
   },
   "cell_type": "markdown",
   "metadata": {},
   "source": [
    "![image.png](attachment:image.png)"
   ]
  },
  {
   "cell_type": "markdown",
   "metadata": {},
   "source": [
    "2. 散点图\n",
    "散点图（Scatter Diagram）又称为散点分布图，是以一个特征为横坐标，另一个特征为纵坐标，利用坐标点（散点）的分布形态反映特征间的统计关系的一种图形。值是由点在图表中的位置表示，类别是由图表中的不同标记表示，通常用于比较跨类别的数据。 \n",
    "\n",
    "scatter方法格式：\n",
    "\n",
    "matplotlib.pyplot.scatter(x, y, s=None, c=None, marker=None, alpha=None, **kwargs)\n"
   ]
  },
  {
   "cell_type": "markdown",
   "metadata": {},
   "source": [
    "【例2-92】scatter绘图示例1。"
   ]
  },
  {
   "cell_type": "code",
   "execution_count": 84,
   "metadata": {},
   "outputs": [
    {
     "data": {
      "image/png": "[encoded data removed]",
      "text/plain": [
       "<Figure size 432x288 with 1 Axes>"
      ]
     },
     "metadata": {
      "needs_background": "light"
     },
     "output_type": "display_data"
    }
   ],
   "source": [
    "fig,ax = plt.subplots()\n",
    "plt.rcParams['font.family'] = ['SimHei'] \n",
    "plt.rcParams['axes.unicode_minus'] = False \n",
    "x1 = np.arange(1,30)\n",
    "y1 = np.sin(x1)\n",
    "ax1 = plt.subplot(1,1,1)\n",
    "plt.title('散点图')\n",
    "plt.xlabel('X')\n",
    "plt.ylabel('Y')\n",
    "lvalue = x1\n",
    "ax1.scatter(x1,y1,c = 'r',s = 100,linewidths = lvalue,marker = 'o')\n",
    "plt.legend('x1')\n",
    "plt.show() \n"
   ]
  },
  {
   "cell_type": "markdown",
   "metadata": {},
   "source": [
    "3. 直方图\n",
    "\n",
    "直方图（Histogram）又称质量分布图，是统计报告图的一种，由一系列高度不等的纵向条纹或线段表示数据分布的情况，一般用横轴表示数据所属类别，纵轴表示数量或者占比。用直方图可以比较直观地看出产品质量特性的分布状态，便于判断其总体质量分布情况。直方图可以发现分布表无法发现的数据模式、样本的频率分布和总体的分布。\n",
    "\n",
    "绘制直方图函数bar格式：\n",
    "\n",
    "matplotlib.pyplot.bar（left，height，width = 0.8，bottom = None，hold = None，data = None，** kwargs ）\n"
   ]
  },
  {
   "cell_type": "code",
   "execution_count": 85,
   "metadata": {},
   "outputs": [
    {
     "data": {
      "image/png": "[encoded data removed]",
      "text/plain": [
       "<Figure size 432x288 with 1 Axes>"
      ]
     },
     "metadata": {
      "needs_background": "light"
     },
     "output_type": "display_data"
    }
   ],
   "source": [
    "fig,ax = plt.subplots()\n",
    "plt.rcParams['font.family'] = ['SimHei'] \n",
    "plt.rcParams['axes.unicode_minus'] = False  \n",
    "x = np.arange(1,6)\n",
    "Y1 = np.random.uniform(1.5,1.0,5)\n",
    "Y2 = np.random.uniform(1.5,1.0,5)\n",
    "plt.bar(x,Y1,width = 0.35,facecolor = 'lightskyblue',edgecolor = 'white')\n",
    "plt.bar(x+0.35,Y2,width = 0.35,facecolor = 'yellowgreen',edgecolor = 'white')\n",
    "plt.show()  \n"
   ]
  },
  {
   "cell_type": "markdown",
   "metadata": {},
   "source": [
    "4. 饼图\n",
    "\n",
    "饼图（Pie Graph）是将各项的大小与各项总和的比例显示在一张“饼”中，以“饼”的大小来确定每一项的占比。饼图可以比较清楚地反映出部分与部分、部分与整体之间的比例关系，易于显示每组数据相对于总数的大小，而且显现方式直观。\n",
    "\n",
    "绘制饼图pie方法格式：\n",
    "\n",
    "matplotlib.pyplot.pie(x, explode=None, labels=None, colors=None, autopct=None, pctdistance=0.6,shadow=False,labeldistance=1.1, startangle=None, radius=None, … )\n"
   ]
  },
  {
   "cell_type": "markdown",
   "metadata": {},
   "source": [
    "【例2-94】pie绘图示例。"
   ]
  },
  {
   "cell_type": "code",
   "execution_count": 86,
   "metadata": {},
   "outputs": [
    {
     "data": {
      "image/png": "[encoded data removed]",
      "text/plain": [
       "<Figure size 432x432 with 1 Axes>"
      ]
     },
     "metadata": {},
     "output_type": "display_data"
    }
   ],
   "source": [
    "plt.figure(figsize = (6,6))\n",
    "ax = plt.axes([0.1,0.1,0.8,0.8])\n",
    "labels = 'Springs','Summer','Autumn','Winter'\n",
    "x = [15,30,45,10]\n",
    "explode = (0.05,0.05,0.05,0.05)\n",
    "#控制分离的距离，默认饼图不分离\n",
    "plt.pie(x,labels = labels,explode = explode,startangle = 60,autopct = '%1.1f%%')\n",
    "#qutopct在图中显示比例值，注意值的格式\n",
    "plt.title('Rany days by season')\n",
    "plt.tick_params(labelsize = 12)\n",
    "plt.show() \n"
   ]
  },
  {
   "cell_type": "markdown",
   "metadata": {},
   "source": [
    "5. 箱线图\n",
    "\n",
    "箱线图（Boxplot）也称箱须图，其绘制需使用常用的统计量，能提供有关数据位置和分散情况的关键信息，尤其在比较不同特征时，更可表现其分散程度差异。箱线图利用数据中的五个统计量（最小值、下四分位数、中位数、上四分位数和最大值）来描述数据，它也可以粗略地看出数据是否具有对称性、分布的分散程度等信息，特别可以用于对几个样本的比较。 \n",
    "\n",
    "boxplot函数格式：\n",
    "\n",
    "matplotlib.pyplot.boxplot(x, notch=None, sym=None, vert=None, whis=None, positions=None, widths=None, patch_artist=None,meanline=None, labels=None, … )\n"
   ]
  },
  {
   "cell_type": "markdown",
   "metadata": {},
   "source": [
    "【例2-95】boxplot绘图示例。"
   ]
  },
  {
   "cell_type": "code",
   "execution_count": 87,
   "metadata": {},
   "outputs": [
    {
     "data": {
      "image/png": "[encoded data removed]",
      "text/plain": [
       "<Figure size 432x288 with 1 Axes>"
      ]
     },
     "metadata": {
      "needs_background": "light"
     },
     "output_type": "display_data"
    }
   ],
   "source": [
    "np.random.seed(2)  #设置随机种子\n",
    "df = pd.DataFrame(np.random.rand(5,4),\n",
    "columns = ['A', 'B', 'C', 'D'])\n",
    "#生成0-1之间的5*4维度数据并存入4列DataFrame中\n",
    "plt.boxplot(df)\n",
    "plt.show()\n"
   ]
  },
  {
   "cell_type": "markdown",
   "metadata": {},
   "source": [
    "6. 概率图\n",
    "\n",
    "概率图模型是图灵奖获得者Pearl提出的用来表示变量间概率依赖关系的理论。正态分布又名高斯分布。\n",
    "\n",
    "正态概率密度函数normpdf（x，mu，sigma），其中，x为向量，mu为均值，sigma为标准差。\n"
   ]
  },
  {
   "cell_type": "code",
   "execution_count": 88,
   "metadata": {},
   "outputs": [
    {
     "data": {
      "image/png": "[encoded data removed]",
      "text/plain": [
       "<Figure size 432x288 with 1 Axes>"
      ]
     },
     "metadata": {
      "needs_background": "light"
     },
     "output_type": "display_data"
    }
   ],
   "source": [
    "from scipy.stats import norm\n",
    "fig,ax = plt.subplots()\n",
    "plt.rcParams['font.family'] = ['SimHei'] \n",
    "np.random.seed(1587554)\n",
    "mu = 100\n",
    "sigma = 15\n",
    "x = mu+sigma*np.random.randn(437)\n",
    "num_bins = 50\n",
    "n,bins,patches = ax.hist(x,num_bins,density = 1)\n",
    "y=norm.pdf(bins,mu,sigma)\n",
    "ax.plot(bins,y,'--')\n",
    "fig.tight_layout()\n",
    "plt.show()\n"
   ]
  },
  {
   "cell_type": "code",
   "execution_count": null,
   "metadata": {},
   "outputs": [],
   "source": []
  }
 ],
 "metadata": {
  "kernelspec": {
   "display_name": "Python 3",
   "language": "python",
   "name": "python3"
  },
  "language_info": {
   "codemirror_mode": {
    "name": "ipython",
    "version": 3
   },
   "file_extension": ".py",
   "mimetype": "text/x-python",
   "name": "python",
   "nbconvert_exporter": "python",
   "pygments_lexer": "ipython3",
   "version": "3.7.4"
  },
  "toc": {
   "base_numbering": 1,
   "nav_menu": {},
   "number_sections": true,
   "sideBar": true,
   "skip_h1_title": false,
   "title_cell": "Table of Contents",
   "title_sidebar": "Contents",
   "toc_cell": false,
   "toc_position": {},
   "toc_section_display": true,
   "toc_window_display": false
  }
 },
 "nbformat": 4,
 "nbformat_minor": 2
}
